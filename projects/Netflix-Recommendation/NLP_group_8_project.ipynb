{
  "nbformat": 4,
  "nbformat_minor": 0,
  "metadata": {
    "colab": {
      "provenance": []
    },
    "kernelspec": {
      "name": "python3",
      "display_name": "Python 3"
    },
    "language_info": {
      "name": "python"
    }
  },
  "cells": [
    {
      "cell_type": "code",
      "source": [
        "import pandas as pd\n",
        "import re\n",
        "\n",
        "# Load dataset\n",
        "df = pd.read_csv('/content/netflix_titles.csv', encoding='ISO-8859-1')\n",
        "\n",
        "# --------------------------------\n",
        "# Step 1: Create 'year' column based on 'rating'\n",
        "# --------------------------------\n",
        "rating_to_year = {\n",
        "    'G': 0, 'PG': 10, 'PG-13': 13, 'R': 17, 'NC-17': 18,\n",
        "    'NR': 0, 'UR': 0, 'TV-Y': 0, 'TV-Y7': 7, 'TV-Y7-FV': 7,\n",
        "    'TV-G': 0, 'TV-PG': 10, 'TV-14': 14, 'TV-MA': 17\n",
        "}\n",
        "\n",
        "# Map the 'rating' column to the new 'year' column\n",
        "df['year'] = df['rating'].map(rating_to_year).fillna(0).astype(int)\n",
        "\n",
        "# --------------------------------\n",
        "# Step 2: Remove non-English words from 'description'\n",
        "# --------------------------------\n",
        "# Function to remove non-English words\n",
        "def clean_description(text):\n",
        "    if pd.isna(text):  # Handle NaN values\n",
        "        return \"\"\n",
        "    # Keep only English characters (letters, numbers, punctuation)\n",
        "    return re.sub(r'[^a-zA-Z0-9.,!?\\'\" ]', '', text)\n",
        "\n",
        "# Apply cleaning function to 'description'\n",
        "df['description'] = df['description'].apply(clean_description)\n",
        "\n",
        "# --------------------------------\n",
        "# Display cleaned data\n",
        "# --------------------------------\n",
        "print(df[['rating', 'year', 'description']].head(10))\n",
        "\n",
        "# Optional: Save the cleaned data to a new CSV file\n",
        "df.to_csv('/content/netflix_titles_cleaned.csv', index=False)\n"
      ],
      "metadata": {
        "colab": {
          "base_uri": "https://localhost:8080/"
        },
        "id": "d-pCTyqXFHPp",
        "outputId": "33a0f2c8-f97f-4ee3-f305-93fd611485dc"
      },
      "execution_count": null,
      "outputs": [
        {
          "output_type": "stream",
          "name": "stdout",
          "text": [
            "  rating  year                                        description\n",
            "0  PG-13    13  As her father nears the end of his life, filmm...\n",
            "1  TV-MA    17  After crossing paths at a party, a Cape Town t...\n",
            "2  TV-MA    17  To protect his family from a powerful drug lor...\n",
            "3  TV-MA    17  Feuds, flirtations and toilet talk go down amo...\n",
            "4  TV-MA    17  In a city of coaching centers known to train I...\n",
            "5  TV-MA    17  The arrival of a charismatic young priest brin...\n",
            "6     PG    10  Equestria's divided. But a brighteyed hero bel...\n",
            "7  TV-MA    17  On a photo shoot in Ghana, an American model s...\n",
            "8  TV-14    14  A talented batch of amateur bakers face off in...\n",
            "9  PG-13    13  A woman adjusting to life after a loss contend...\n"
          ]
        }
      ]
    },
    {
      "cell_type": "code",
      "execution_count": null,
      "metadata": {
        "id": "o5_UpOw7Hkqx"
      },
      "outputs": [],
      "source": [
        "import pandas as pd\n",
        "import numpy as np\n",
        "import nltk\n",
        "from nltk.corpus import stopwords\n",
        "from nltk.tokenize import word_tokenize\n",
        "from sklearn.preprocessing import MinMaxScaler"
      ]
    },
    {
      "cell_type": "code",
      "source": [
        "!pip install matplotlib\n",
        "import matplotlib.pyplot as plt"
      ],
      "metadata": {
        "colab": {
          "base_uri": "https://localhost:8080/"
        },
        "id": "0hXog6FGE73K",
        "outputId": "47f8e427-7ab9-4567-92de-dbabbbf4795c"
      },
      "execution_count": null,
      "outputs": [
        {
          "output_type": "stream",
          "name": "stdout",
          "text": [
            "Requirement already satisfied: matplotlib in /usr/local/lib/python3.11/dist-packages (3.10.0)\n",
            "Requirement already satisfied: contourpy>=1.0.1 in /usr/local/lib/python3.11/dist-packages (from matplotlib) (1.3.1)\n",
            "Requirement already satisfied: cycler>=0.10 in /usr/local/lib/python3.11/dist-packages (from matplotlib) (0.12.1)\n",
            "Requirement already satisfied: fonttools>=4.22.0 in /usr/local/lib/python3.11/dist-packages (from matplotlib) (4.56.0)\n",
            "Requirement already satisfied: kiwisolver>=1.3.1 in /usr/local/lib/python3.11/dist-packages (from matplotlib) (1.4.8)\n",
            "Requirement already satisfied: numpy>=1.23 in /usr/local/lib/python3.11/dist-packages (from matplotlib) (2.0.2)\n",
            "Requirement already satisfied: packaging>=20.0 in /usr/local/lib/python3.11/dist-packages (from matplotlib) (24.2)\n",
            "Requirement already satisfied: pillow>=8 in /usr/local/lib/python3.11/dist-packages (from matplotlib) (11.1.0)\n",
            "Requirement already satisfied: pyparsing>=2.3.1 in /usr/local/lib/python3.11/dist-packages (from matplotlib) (3.2.1)\n",
            "Requirement already satisfied: python-dateutil>=2.7 in /usr/local/lib/python3.11/dist-packages (from matplotlib) (2.8.2)\n",
            "Requirement already satisfied: six>=1.5 in /usr/local/lib/python3.11/dist-packages (from python-dateutil>=2.7->matplotlib) (1.17.0)\n"
          ]
        }
      ]
    },
    {
      "cell_type": "code",
      "source": [
        "df = pd.read_csv('/content/netflix_titles.csv', encoding='ISO-8859-1')"
      ],
      "metadata": {
        "id": "Y1r_vCj7I7BL"
      },
      "execution_count": null,
      "outputs": []
    },
    {
      "cell_type": "code",
      "source": [
        "#data = pd.read_csv('/content/netflix_titles.csv', encoding='iso-8859-1')"
      ],
      "metadata": {
        "id": "S8mQOn8b_6Dn"
      },
      "execution_count": null,
      "outputs": []
    },
    {
      "cell_type": "code",
      "source": [
        "# Drop columns 'Unnamed: 12' to 'Unnamed: 19'\n",
        "# df = df.drop(columns=['Unnamed: 12', 'Unnamed: 13', 'Unnamed: 14', 'Unnamed: 15', 'Unnamed: 16', 'Unnamed: 17', 'Unnamed: 18', 'Unnamed: 19','Unnamed: 20', 'Unnamed: 21','Unnamed: 22', 'Unnamed: 23', 'Unnamed: 24', 'Unnamed: 25'])\n",
        "# Display the cleaned DataFrame\n",
        "df.head()"
      ],
      "metadata": {
        "colab": {
          "base_uri": "https://localhost:8080/",
          "height": 206
        },
        "id": "7yjTxXNeJJ7B",
        "outputId": "1c8971f1-b8af-43e0-d900-6c2df41f94c3"
      },
      "execution_count": null,
      "outputs": [
        {
          "output_type": "execute_result",
          "data": {
            "text/plain": [
              "  show_id     type                  title         director  \\\n",
              "0      s1    Movie   Dick Johnson Is Dead  Kirsten Johnson   \n",
              "1      s2  TV Show          Blood & Water              NaN   \n",
              "2      s3  TV Show              Ganglands  Julien Leclercq   \n",
              "3      s4  TV Show  Jailbirds New Orleans              NaN   \n",
              "4      s5  TV Show           Kota Factory              NaN   \n",
              "\n",
              "                                                cast        country  \\\n",
              "0                                                NaN  United States   \n",
              "1  Ama Qamata, Khosi Ngema, Gail Mabalane, Thaban...   South Africa   \n",
              "2  Sami Bouajila, Tracy Gotoas, Samuel Jouy, Nabi...            NaN   \n",
              "3                                                NaN            NaN   \n",
              "4  Mayur More, Jitendra Kumar, Ranjan Raj, Alam K...          India   \n",
              "\n",
              "  date_added  release_year rating   duration  \\\n",
              "0  25-Sep-21          2020  PG-13     90 min   \n",
              "1  24-Sep-21          2021  TV-MA  2 Seasons   \n",
              "2  24-Sep-21          2021  TV-MA   1 Season   \n",
              "3  24-Sep-21          2021  TV-MA   1 Season   \n",
              "4  24-Sep-21          2021  TV-MA  2 Seasons   \n",
              "\n",
              "                                           listed_in  \\\n",
              "0                                      Documentaries   \n",
              "1    International TV Shows, TV Dramas, TV Mysteries   \n",
              "2  Crime TV Shows, International TV Shows, TV Act...   \n",
              "3                             Docuseries, Reality TV   \n",
              "4  International TV Shows, Romantic TV Shows, TV ...   \n",
              "\n",
              "                                         description  \n",
              "0  As her father nears the end of his life, filmm...  \n",
              "1  After crossing paths at a party, a Cape Town t...  \n",
              "2  To protect his family from a powerful drug lor...  \n",
              "3  Feuds, flirtations and toilet talk go down amo...  \n",
              "4  In a city of coaching centers known to train I...  "
            ],
            "text/html": [
              "\n",
              "  <div id=\"df-a988ff7e-82fd-4505-82b9-8726f52a7673\" class=\"colab-df-container\">\n",
              "    <div>\n",
              "<style scoped>\n",
              "    .dataframe tbody tr th:only-of-type {\n",
              "        vertical-align: middle;\n",
              "    }\n",
              "\n",
              "    .dataframe tbody tr th {\n",
              "        vertical-align: top;\n",
              "    }\n",
              "\n",
              "    .dataframe thead th {\n",
              "        text-align: right;\n",
              "    }\n",
              "</style>\n",
              "<table border=\"1\" class=\"dataframe\">\n",
              "  <thead>\n",
              "    <tr style=\"text-align: right;\">\n",
              "      <th></th>\n",
              "      <th>show_id</th>\n",
              "      <th>type</th>\n",
              "      <th>title</th>\n",
              "      <th>director</th>\n",
              "      <th>cast</th>\n",
              "      <th>country</th>\n",
              "      <th>date_added</th>\n",
              "      <th>release_year</th>\n",
              "      <th>rating</th>\n",
              "      <th>duration</th>\n",
              "      <th>listed_in</th>\n",
              "      <th>description</th>\n",
              "    </tr>\n",
              "  </thead>\n",
              "  <tbody>\n",
              "    <tr>\n",
              "      <th>0</th>\n",
              "      <td>s1</td>\n",
              "      <td>Movie</td>\n",
              "      <td>Dick Johnson Is Dead</td>\n",
              "      <td>Kirsten Johnson</td>\n",
              "      <td>NaN</td>\n",
              "      <td>United States</td>\n",
              "      <td>25-Sep-21</td>\n",
              "      <td>2020</td>\n",
              "      <td>PG-13</td>\n",
              "      <td>90 min</td>\n",
              "      <td>Documentaries</td>\n",
              "      <td>As her father nears the end of his life, filmm...</td>\n",
              "    </tr>\n",
              "    <tr>\n",
              "      <th>1</th>\n",
              "      <td>s2</td>\n",
              "      <td>TV Show</td>\n",
              "      <td>Blood &amp; Water</td>\n",
              "      <td>NaN</td>\n",
              "      <td>Ama Qamata, Khosi Ngema, Gail Mabalane, Thaban...</td>\n",
              "      <td>South Africa</td>\n",
              "      <td>24-Sep-21</td>\n",
              "      <td>2021</td>\n",
              "      <td>TV-MA</td>\n",
              "      <td>2 Seasons</td>\n",
              "      <td>International TV Shows, TV Dramas, TV Mysteries</td>\n",
              "      <td>After crossing paths at a party, a Cape Town t...</td>\n",
              "    </tr>\n",
              "    <tr>\n",
              "      <th>2</th>\n",
              "      <td>s3</td>\n",
              "      <td>TV Show</td>\n",
              "      <td>Ganglands</td>\n",
              "      <td>Julien Leclercq</td>\n",
              "      <td>Sami Bouajila, Tracy Gotoas, Samuel Jouy, Nabi...</td>\n",
              "      <td>NaN</td>\n",
              "      <td>24-Sep-21</td>\n",
              "      <td>2021</td>\n",
              "      <td>TV-MA</td>\n",
              "      <td>1 Season</td>\n",
              "      <td>Crime TV Shows, International TV Shows, TV Act...</td>\n",
              "      <td>To protect his family from a powerful drug lor...</td>\n",
              "    </tr>\n",
              "    <tr>\n",
              "      <th>3</th>\n",
              "      <td>s4</td>\n",
              "      <td>TV Show</td>\n",
              "      <td>Jailbirds New Orleans</td>\n",
              "      <td>NaN</td>\n",
              "      <td>NaN</td>\n",
              "      <td>NaN</td>\n",
              "      <td>24-Sep-21</td>\n",
              "      <td>2021</td>\n",
              "      <td>TV-MA</td>\n",
              "      <td>1 Season</td>\n",
              "      <td>Docuseries, Reality TV</td>\n",
              "      <td>Feuds, flirtations and toilet talk go down amo...</td>\n",
              "    </tr>\n",
              "    <tr>\n",
              "      <th>4</th>\n",
              "      <td>s5</td>\n",
              "      <td>TV Show</td>\n",
              "      <td>Kota Factory</td>\n",
              "      <td>NaN</td>\n",
              "      <td>Mayur More, Jitendra Kumar, Ranjan Raj, Alam K...</td>\n",
              "      <td>India</td>\n",
              "      <td>24-Sep-21</td>\n",
              "      <td>2021</td>\n",
              "      <td>TV-MA</td>\n",
              "      <td>2 Seasons</td>\n",
              "      <td>International TV Shows, Romantic TV Shows, TV ...</td>\n",
              "      <td>In a city of coaching centers known to train I...</td>\n",
              "    </tr>\n",
              "  </tbody>\n",
              "</table>\n",
              "</div>\n",
              "    <div class=\"colab-df-buttons\">\n",
              "\n",
              "  <div class=\"colab-df-container\">\n",
              "    <button class=\"colab-df-convert\" onclick=\"convertToInteractive('df-a988ff7e-82fd-4505-82b9-8726f52a7673')\"\n",
              "            title=\"Convert this dataframe to an interactive table.\"\n",
              "            style=\"display:none;\">\n",
              "\n",
              "  <svg xmlns=\"http://www.w3.org/2000/svg\" height=\"24px\" viewBox=\"0 -960 960 960\">\n",
              "    <path d=\"M120-120v-720h720v720H120Zm60-500h600v-160H180v160Zm220 220h160v-160H400v160Zm0 220h160v-160H400v160ZM180-400h160v-160H180v160Zm440 0h160v-160H620v160ZM180-180h160v-160H180v160Zm440 0h160v-160H620v160Z\"/>\n",
              "  </svg>\n",
              "    </button>\n",
              "\n",
              "  <style>\n",
              "    .colab-df-container {\n",
              "      display:flex;\n",
              "      gap: 12px;\n",
              "    }\n",
              "\n",
              "    .colab-df-convert {\n",
              "      background-color: #E8F0FE;\n",
              "      border: none;\n",
              "      border-radius: 50%;\n",
              "      cursor: pointer;\n",
              "      display: none;\n",
              "      fill: #1967D2;\n",
              "      height: 32px;\n",
              "      padding: 0 0 0 0;\n",
              "      width: 32px;\n",
              "    }\n",
              "\n",
              "    .colab-df-convert:hover {\n",
              "      background-color: #E2EBFA;\n",
              "      box-shadow: 0px 1px 2px rgba(60, 64, 67, 0.3), 0px 1px 3px 1px rgba(60, 64, 67, 0.15);\n",
              "      fill: #174EA6;\n",
              "    }\n",
              "\n",
              "    .colab-df-buttons div {\n",
              "      margin-bottom: 4px;\n",
              "    }\n",
              "\n",
              "    [theme=dark] .colab-df-convert {\n",
              "      background-color: #3B4455;\n",
              "      fill: #D2E3FC;\n",
              "    }\n",
              "\n",
              "    [theme=dark] .colab-df-convert:hover {\n",
              "      background-color: #434B5C;\n",
              "      box-shadow: 0px 1px 3px 1px rgba(0, 0, 0, 0.15);\n",
              "      filter: drop-shadow(0px 1px 2px rgba(0, 0, 0, 0.3));\n",
              "      fill: #FFFFFF;\n",
              "    }\n",
              "  </style>\n",
              "\n",
              "    <script>\n",
              "      const buttonEl =\n",
              "        document.querySelector('#df-a988ff7e-82fd-4505-82b9-8726f52a7673 button.colab-df-convert');\n",
              "      buttonEl.style.display =\n",
              "        google.colab.kernel.accessAllowed ? 'block' : 'none';\n",
              "\n",
              "      async function convertToInteractive(key) {\n",
              "        const element = document.querySelector('#df-a988ff7e-82fd-4505-82b9-8726f52a7673');\n",
              "        const dataTable =\n",
              "          await google.colab.kernel.invokeFunction('convertToInteractive',\n",
              "                                                    [key], {});\n",
              "        if (!dataTable) return;\n",
              "\n",
              "        const docLinkHtml = 'Like what you see? Visit the ' +\n",
              "          '<a target=\"_blank\" href=https://colab.research.google.com/notebooks/data_table.ipynb>data table notebook</a>'\n",
              "          + ' to learn more about interactive tables.';\n",
              "        element.innerHTML = '';\n",
              "        dataTable['output_type'] = 'display_data';\n",
              "        await google.colab.output.renderOutput(dataTable, element);\n",
              "        const docLink = document.createElement('div');\n",
              "        docLink.innerHTML = docLinkHtml;\n",
              "        element.appendChild(docLink);\n",
              "      }\n",
              "    </script>\n",
              "  </div>\n",
              "\n",
              "\n",
              "<div id=\"df-8947c497-9013-4e50-8f80-ad47d1fa1bc9\">\n",
              "  <button class=\"colab-df-quickchart\" onclick=\"quickchart('df-8947c497-9013-4e50-8f80-ad47d1fa1bc9')\"\n",
              "            title=\"Suggest charts\"\n",
              "            style=\"display:none;\">\n",
              "\n",
              "<svg xmlns=\"http://www.w3.org/2000/svg\" height=\"24px\"viewBox=\"0 0 24 24\"\n",
              "     width=\"24px\">\n",
              "    <g>\n",
              "        <path d=\"M19 3H5c-1.1 0-2 .9-2 2v14c0 1.1.9 2 2 2h14c1.1 0 2-.9 2-2V5c0-1.1-.9-2-2-2zM9 17H7v-7h2v7zm4 0h-2V7h2v10zm4 0h-2v-4h2v4z\"/>\n",
              "    </g>\n",
              "</svg>\n",
              "  </button>\n",
              "\n",
              "<style>\n",
              "  .colab-df-quickchart {\n",
              "      --bg-color: #E8F0FE;\n",
              "      --fill-color: #1967D2;\n",
              "      --hover-bg-color: #E2EBFA;\n",
              "      --hover-fill-color: #174EA6;\n",
              "      --disabled-fill-color: #AAA;\n",
              "      --disabled-bg-color: #DDD;\n",
              "  }\n",
              "\n",
              "  [theme=dark] .colab-df-quickchart {\n",
              "      --bg-color: #3B4455;\n",
              "      --fill-color: #D2E3FC;\n",
              "      --hover-bg-color: #434B5C;\n",
              "      --hover-fill-color: #FFFFFF;\n",
              "      --disabled-bg-color: #3B4455;\n",
              "      --disabled-fill-color: #666;\n",
              "  }\n",
              "\n",
              "  .colab-df-quickchart {\n",
              "    background-color: var(--bg-color);\n",
              "    border: none;\n",
              "    border-radius: 50%;\n",
              "    cursor: pointer;\n",
              "    display: none;\n",
              "    fill: var(--fill-color);\n",
              "    height: 32px;\n",
              "    padding: 0;\n",
              "    width: 32px;\n",
              "  }\n",
              "\n",
              "  .colab-df-quickchart:hover {\n",
              "    background-color: var(--hover-bg-color);\n",
              "    box-shadow: 0 1px 2px rgba(60, 64, 67, 0.3), 0 1px 3px 1px rgba(60, 64, 67, 0.15);\n",
              "    fill: var(--button-hover-fill-color);\n",
              "  }\n",
              "\n",
              "  .colab-df-quickchart-complete:disabled,\n",
              "  .colab-df-quickchart-complete:disabled:hover {\n",
              "    background-color: var(--disabled-bg-color);\n",
              "    fill: var(--disabled-fill-color);\n",
              "    box-shadow: none;\n",
              "  }\n",
              "\n",
              "  .colab-df-spinner {\n",
              "    border: 2px solid var(--fill-color);\n",
              "    border-color: transparent;\n",
              "    border-bottom-color: var(--fill-color);\n",
              "    animation:\n",
              "      spin 1s steps(1) infinite;\n",
              "  }\n",
              "\n",
              "  @keyframes spin {\n",
              "    0% {\n",
              "      border-color: transparent;\n",
              "      border-bottom-color: var(--fill-color);\n",
              "      border-left-color: var(--fill-color);\n",
              "    }\n",
              "    20% {\n",
              "      border-color: transparent;\n",
              "      border-left-color: var(--fill-color);\n",
              "      border-top-color: var(--fill-color);\n",
              "    }\n",
              "    30% {\n",
              "      border-color: transparent;\n",
              "      border-left-color: var(--fill-color);\n",
              "      border-top-color: var(--fill-color);\n",
              "      border-right-color: var(--fill-color);\n",
              "    }\n",
              "    40% {\n",
              "      border-color: transparent;\n",
              "      border-right-color: var(--fill-color);\n",
              "      border-top-color: var(--fill-color);\n",
              "    }\n",
              "    60% {\n",
              "      border-color: transparent;\n",
              "      border-right-color: var(--fill-color);\n",
              "    }\n",
              "    80% {\n",
              "      border-color: transparent;\n",
              "      border-right-color: var(--fill-color);\n",
              "      border-bottom-color: var(--fill-color);\n",
              "    }\n",
              "    90% {\n",
              "      border-color: transparent;\n",
              "      border-bottom-color: var(--fill-color);\n",
              "    }\n",
              "  }\n",
              "</style>\n",
              "\n",
              "  <script>\n",
              "    async function quickchart(key) {\n",
              "      const quickchartButtonEl =\n",
              "        document.querySelector('#' + key + ' button');\n",
              "      quickchartButtonEl.disabled = true;  // To prevent multiple clicks.\n",
              "      quickchartButtonEl.classList.add('colab-df-spinner');\n",
              "      try {\n",
              "        const charts = await google.colab.kernel.invokeFunction(\n",
              "            'suggestCharts', [key], {});\n",
              "      } catch (error) {\n",
              "        console.error('Error during call to suggestCharts:', error);\n",
              "      }\n",
              "      quickchartButtonEl.classList.remove('colab-df-spinner');\n",
              "      quickchartButtonEl.classList.add('colab-df-quickchart-complete');\n",
              "    }\n",
              "    (() => {\n",
              "      let quickchartButtonEl =\n",
              "        document.querySelector('#df-8947c497-9013-4e50-8f80-ad47d1fa1bc9 button');\n",
              "      quickchartButtonEl.style.display =\n",
              "        google.colab.kernel.accessAllowed ? 'block' : 'none';\n",
              "    })();\n",
              "  </script>\n",
              "</div>\n",
              "\n",
              "    </div>\n",
              "  </div>\n"
            ],
            "application/vnd.google.colaboratory.intrinsic+json": {
              "type": "dataframe",
              "variable_name": "df",
              "summary": "{\n  \"name\": \"df\",\n  \"rows\": 8809,\n  \"fields\": [\n    {\n      \"column\": \"show_id\",\n      \"properties\": {\n        \"dtype\": \"string\",\n        \"num_unique_values\": 8809,\n        \"samples\": [\n          \"s4973\",\n          \"s3366\",\n          \"s4504\"\n        ],\n        \"semantic_type\": \"\",\n        \"description\": \"\"\n      }\n    },\n    {\n      \"column\": \"type\",\n      \"properties\": {\n        \"dtype\": \"category\",\n        \"num_unique_values\": 2,\n        \"samples\": [\n          \"TV Show\",\n          \"Movie\"\n        ],\n        \"semantic_type\": \"\",\n        \"description\": \"\"\n      }\n    },\n    {\n      \"column\": \"title\",\n      \"properties\": {\n        \"dtype\": \"string\",\n        \"num_unique_values\": 8806,\n        \"samples\": [\n          \"BoJack Horseman Christmas Special: Sabrina's Christmas Wish\",\n          \"Black Mirror: Bandersnatch\"\n        ],\n        \"semantic_type\": \"\",\n        \"description\": \"\"\n      }\n    },\n    {\n      \"column\": \"director\",\n      \"properties\": {\n        \"dtype\": \"string\",\n        \"num_unique_values\": 4529,\n        \"samples\": [\n          \"Emily Hagins\",\n          \"Yibr\\u00c3\\u00a1n Asuad\"\n        ],\n        \"semantic_type\": \"\",\n        \"description\": \"\"\n      }\n    },\n    {\n      \"column\": \"cast\",\n      \"properties\": {\n        \"dtype\": \"string\",\n        \"num_unique_values\": 7694,\n        \"samples\": [\n          \"Paula Patton, Devon Sawa, JR Bourne, Aria Birch, Catherine Barroll, Samantha Ferris, Imogen Tear, Daniel Bacon, Carmel Amit, Noel Johansen, Rebecca Staab\",\n          \"JP Karliak, Pierce Gagnon, Alex Cazares, Kevin Michael Richardson, Flula Borg, Rhys Darby, Wendie Malick, Jake Green\"\n        ],\n        \"semantic_type\": \"\",\n        \"description\": \"\"\n      }\n    },\n    {\n      \"column\": \"country\",\n      \"properties\": {\n        \"dtype\": \"category\",\n        \"num_unique_values\": 748,\n        \"samples\": [\n          \"United States, United Kingdom, Denmark, Sweden\",\n          \"United Kingdom, Hong Kong\"\n        ],\n        \"semantic_type\": \"\",\n        \"description\": \"\"\n      }\n    },\n    {\n      \"column\": \"date_added\",\n      \"properties\": {\n        \"dtype\": \"object\",\n        \"num_unique_values\": 1768,\n        \"samples\": [\n          \"26-Jun-18\",\n          \"17-Nov-20\"\n        ],\n        \"semantic_type\": \"\",\n        \"description\": \"\"\n      }\n    },\n    {\n      \"column\": \"release_year\",\n      \"properties\": {\n        \"dtype\": \"number\",\n        \"std\": 8,\n        \"min\": 1925,\n        \"max\": 2024,\n        \"num_unique_values\": 75,\n        \"samples\": [\n          1996,\n          1969\n        ],\n        \"semantic_type\": \"\",\n        \"description\": \"\"\n      }\n    },\n    {\n      \"column\": \"rating\",\n      \"properties\": {\n        \"dtype\": \"category\",\n        \"num_unique_values\": 18,\n        \"samples\": [\n          \"PG-13\",\n          \"TV-MA\"\n        ],\n        \"semantic_type\": \"\",\n        \"description\": \"\"\n      }\n    },\n    {\n      \"column\": \"duration\",\n      \"properties\": {\n        \"dtype\": \"category\",\n        \"num_unique_values\": 220,\n        \"samples\": [\n          \"37 min\",\n          \"177 min\"\n        ],\n        \"semantic_type\": \"\",\n        \"description\": \"\"\n      }\n    },\n    {\n      \"column\": \"listed_in\",\n      \"properties\": {\n        \"dtype\": \"category\",\n        \"num_unique_values\": 516,\n        \"samples\": [\n          \"Crime TV Shows, International TV Shows, TV Mysteries\",\n          \"Dramas, Horror Movies, Music & Musicals\"\n        ],\n        \"semantic_type\": \"\",\n        \"description\": \"\"\n      }\n    },\n    {\n      \"column\": \"description\",\n      \"properties\": {\n        \"dtype\": \"string\",\n        \"num_unique_values\": 8777,\n        \"samples\": [\n          \"When an aspiring actress hits it big thanks to a candid Instagram post, the lives of several Tokyo women cross as they struggle to define happiness IRL.\",\n          \"When a local musician and his band are forced to perform in honor of a right-wing coup, his daughter schemes to make their music subversive instead.\"\n        ],\n        \"semantic_type\": \"\",\n        \"description\": \"\"\n      }\n    }\n  ]\n}"
            }
          },
          "metadata": {},
          "execution_count": 4
        }
      ]
    },
    {
      "cell_type": "code",
      "source": [
        "# Fill missing values with 'Unknown' for director, cast, and country. Flag the missing values without losing any data (we can always drop missing values if wanted)\n",
        "df['director'] = df['director'].fillna('Unknown')\n",
        "df['cast'] = df['cast'].fillna('Unknown')\n",
        "df['country'] = df['country'].fillna('Unknown')\n",
        "\n",
        "# Drop duplicate rows based on the 'title' column\n",
        "df = df.drop_duplicates(subset=['title'], keep='first')\n"
      ],
      "metadata": {
        "id": "4obqjF61gDLp"
      },
      "execution_count": null,
      "outputs": []
    },
    {
      "cell_type": "code",
      "source": [
        "print(df['rating'].unique())"
      ],
      "metadata": {
        "colab": {
          "base_uri": "https://localhost:8080/"
        },
        "id": "ZntfUqfdAZYf",
        "outputId": "87e40563-b9ab-4262-ed69-04d611a1c290"
      },
      "execution_count": null,
      "outputs": [
        {
          "output_type": "stream",
          "name": "stdout",
          "text": [
            "['PG-13' 'TV-MA' 'PG' 'TV-14' 'TV-PG' 'TV-Y' 'TV-Y7' 'R' 'TV-G' 'G'\n",
            " 'NC-17' '74 min' '84 min' '66 min' 'NR' nan 'TV-Y7-FV' 'UR' 'A']\n"
          ]
        }
      ]
    },
    {
      "cell_type": "code",
      "source": [
        "# rating= {\n",
        "#     \"G\": \"age >= 0\",\n",
        "#     \"PG\": \"age >= 10\",\n",
        "#     \"PG-13\": \"age >= 13\",\n",
        "#     \"R\": \"age >= 17\",\n",
        "#     \"NC-17\": \"age >= 18\",\n",
        "#     \"NR\": \"Unknown\",\n",
        "#     \"UR\": \"Unknown\",\n",
        "#     \"TV-Y\": \"age >= 0\",\n",
        "#     \"TV-Y7\": \"age >= 7\",\n",
        "#     \"TV-Y7-FV\": \"age >= 7\",\n",
        "#     \"TV-G\": \"age >= 0\",\n",
        "#     \"TV-PG\": \"age >= 10\",\n",
        "#     \"TV-14\": \"age >= 14\",\n",
        "#     \"TV-MA\": \"age >= 17\",\n",
        "# }\n"
      ],
      "metadata": {
        "id": "Gm-cfplaDuP_"
      },
      "execution_count": null,
      "outputs": []
    },
    {
      "cell_type": "code",
      "source": [
        "age_ratings_numeric = {\n",
        "    \"G\": \"age >= 0\",\n",
        "    \"PG\": \"age >= 10\",\n",
        "    \"PG-13\": \"age >= 13\",\n",
        "    \"R\": \"age >= 17\",\n",
        "    \"NC-17\": \"age >= 18\",\n",
        "    \"NR\": \"Unknown\",\n",
        "    \"UR\": \"Unknown\",\n",
        "    \"TV-Y\": \"age >= 0\",\n",
        "    \"TV-Y7\": \"age >= 7\",\n",
        "    \"TV-Y7-FV\": \"age >= 7\",\n",
        "    \"TV-G\": \"age >= 0\",\n",
        "    \"TV-PG\": \"age >= 10\",\n",
        "    \"TV-14\": \"age >= 14\",\n",
        "    \"TV-MA\": \"age >= 17\",\n",
        "}\n"
      ],
      "metadata": {
        "id": "XB39vCRTWJKa"
      },
      "execution_count": null,
      "outputs": []
    },
    {
      "cell_type": "code",
      "source": [
        "df = df[df['rating'].isin(age_ratings_numeric.keys())]\n"
      ],
      "metadata": {
        "id": "vmp9rJu_WR5l"
      },
      "execution_count": null,
      "outputs": []
    },
    {
      "cell_type": "code",
      "source": [
        "df['age_numeric'] = df['rating'].map(age_ratings_numeric)\n",
        "\n",
        "# Drop \"Unknown\" values\n",
        "df = df[df['age_numeric'] != \"Unknown\"]\n",
        "\n",
        "# Recalculate counts\n",
        "age_counts = df['age_numeric'].value_counts()\n",
        "\n",
        "# Plot\n",
        "plt.figure(figsize=(12,6))\n",
        "plt.bar(age_counts.index, age_counts.values, color='royalblue', edgecolor='black')\n",
        "plt.xlabel(\"Age Ratings\", fontsize=14)\n",
        "plt.ylabel(\"Count\", fontsize=14)\n",
        "plt.title(\"Age Distribution of Netflix Content\", fontsize=16)\n",
        "plt.xticks(rotation=45, fontsize=12)\n",
        "plt.yticks(fontsize=12)\n",
        "plt.grid(axis='y', linestyle='--', alpha=0.7)\n",
        "plt.show()\n",
        "\n"
      ],
      "metadata": {
        "colab": {
          "base_uri": "https://localhost:8080/",
          "height": 634
        },
        "id": "c3vlqrAhELHP",
        "outputId": "756ca6c8-e124-4e3d-8532-fc8b1c31dbf2"
      },
      "execution_count": null,
      "outputs": [
        {
          "output_type": "display_data",
          "data": {
            "text/plain": [
              "<Figure size 1200x600 with 1 Axes>"
            ],
            "image/png": "[encoded data removed]"
          },
          "metadata": {}
        }
      ]
    },
    {
      "cell_type": "code",
      "source": [
        "content_type_distribution = df['type'].value_counts()\n",
        "\n",
        "content_type_distribution.plot(kind='bar', color='royalblue')\n",
        "plt.title('Content Type Distribution')\n",
        "plt.xlabel('Type')\n",
        "plt.ylabel('Count')\n",
        "plt.show()"
      ],
      "metadata": {
        "colab": {
          "base_uri": "https://localhost:8080/",
          "height": 517
        },
        "id": "He9_PIpiXqGM",
        "outputId": "cf9b1313-1351-466a-892e-efa9d7f98a76"
      },
      "execution_count": null,
      "outputs": [
        {
          "output_type": "display_data",
          "data": {
            "text/plain": [
              "<Figure size 640x480 with 1 Axes>"
            ],
            "image/png": "[encoded data removed]"
          },
          "metadata": {}
        }
      ]
    },
    {
      "cell_type": "code",
      "source": [
        "import nltk\n",
        "from nltk.tokenize import word_tokenize\n",
        "from nltk.corpus import stopwords\n",
        "import string\n",
        "from nltk.stem import WordNetLemmatizer\n",
        "import string\n",
        "\n",
        "\n",
        "nltk.download('punkt')\n",
        "nltk.download('punkt_tab')\n",
        "nltk.download('stopwords')\n",
        "nltk.download('wordnet')\n",
        "\n",
        "stop_words = set(stopwords.words('english'))\n",
        "lemmatizer = WordNetLemmatizer()\n",
        "\n",
        "\n",
        "def clean_and_tokenize(text):\n",
        "    text = text.lower()\n",
        "    tokens = word_tokenize(text)\n",
        "    tokens = [word for word in tokens if word.isalnum()]\n",
        "    tokens = [word for word in tokens if word not in stop_words]\n",
        "    tokens = [lemmatizer.lemmatize(word) for word in tokens]\n",
        "    return tokens\n",
        "\n",
        "\n",
        "df[\"tokenized_description\"] = df[\"description\"].fillna(\"\").apply(clean_and_tokenize)\n",
        "\n",
        "\n",
        "df[[\"title\", \"tokenized_description\"]].head()\n"
      ],
      "metadata": {
        "colab": {
          "base_uri": "https://localhost:8080/",
          "height": 328
        },
        "id": "ZdbxMARx_BYj",
        "outputId": "c0d209ae-8aa8-486f-eecd-d3683ad6954a"
      },
      "execution_count": null,
      "outputs": [
        {
          "output_type": "stream",
          "name": "stderr",
          "text": [
            "[nltk_data] Downloading package punkt to /root/nltk_data...\n",
            "[nltk_data]   Unzipping tokenizers/punkt.zip.\n",
            "[nltk_data] Downloading package punkt_tab to /root/nltk_data...\n",
            "[nltk_data]   Unzipping tokenizers/punkt_tab.zip.\n",
            "[nltk_data] Downloading package stopwords to /root/nltk_data...\n",
            "[nltk_data]   Unzipping corpora/stopwords.zip.\n",
            "[nltk_data] Downloading package wordnet to /root/nltk_data...\n"
          ]
        },
        {
          "output_type": "execute_result",
          "data": {
            "text/plain": [
              "                   title                              tokenized_description\n",
              "0   Dick Johnson Is Dead  [father, nears, end, life, filmmaker, kirsten,...\n",
              "1          Blood & Water  [crossing, path, party, cape, town, teen, set,...\n",
              "2              Ganglands  [protect, family, powerful, drug, lord, skille...\n",
              "3  Jailbirds New Orleans  [feud, flirtation, toilet, talk, go, among, in...\n",
              "4           Kota Factory  [city, coaching, center, known, train, finest,..."
            ],
            "text/html": [
              "\n",
              "  <div id=\"df-7aabc36f-1f45-4355-9fe5-fb6ffd03f778\" class=\"colab-df-container\">\n",
              "    <div>\n",
              "<style scoped>\n",
              "    .dataframe tbody tr th:only-of-type {\n",
              "        vertical-align: middle;\n",
              "    }\n",
              "\n",
              "    .dataframe tbody tr th {\n",
              "        vertical-align: top;\n",
              "    }\n",
              "\n",
              "    .dataframe thead th {\n",
              "        text-align: right;\n",
              "    }\n",
              "</style>\n",
              "<table border=\"1\" class=\"dataframe\">\n",
              "  <thead>\n",
              "    <tr style=\"text-align: right;\">\n",
              "      <th></th>\n",
              "      <th>title</th>\n",
              "      <th>tokenized_description</th>\n",
              "    </tr>\n",
              "  </thead>\n",
              "  <tbody>\n",
              "    <tr>\n",
              "      <th>0</th>\n",
              "      <td>Dick Johnson Is Dead</td>\n",
              "      <td>[father, nears, end, life, filmmaker, kirsten,...</td>\n",
              "    </tr>\n",
              "    <tr>\n",
              "      <th>1</th>\n",
              "      <td>Blood &amp; Water</td>\n",
              "      <td>[crossing, path, party, cape, town, teen, set,...</td>\n",
              "    </tr>\n",
              "    <tr>\n",
              "      <th>2</th>\n",
              "      <td>Ganglands</td>\n",
              "      <td>[protect, family, powerful, drug, lord, skille...</td>\n",
              "    </tr>\n",
              "    <tr>\n",
              "      <th>3</th>\n",
              "      <td>Jailbirds New Orleans</td>\n",
              "      <td>[feud, flirtation, toilet, talk, go, among, in...</td>\n",
              "    </tr>\n",
              "    <tr>\n",
              "      <th>4</th>\n",
              "      <td>Kota Factory</td>\n",
              "      <td>[city, coaching, center, known, train, finest,...</td>\n",
              "    </tr>\n",
              "  </tbody>\n",
              "</table>\n",
              "</div>\n",
              "    <div class=\"colab-df-buttons\">\n",
              "\n",
              "  <div class=\"colab-df-container\">\n",
              "    <button class=\"colab-df-convert\" onclick=\"convertToInteractive('df-7aabc36f-1f45-4355-9fe5-fb6ffd03f778')\"\n",
              "            title=\"Convert this dataframe to an interactive table.\"\n",
              "            style=\"display:none;\">\n",
              "\n",
              "  <svg xmlns=\"http://www.w3.org/2000/svg\" height=\"24px\" viewBox=\"0 -960 960 960\">\n",
              "    <path d=\"M120-120v-720h720v720H120Zm60-500h600v-160H180v160Zm220 220h160v-160H400v160Zm0 220h160v-160H400v160ZM180-400h160v-160H180v160Zm440 0h160v-160H620v160ZM180-180h160v-160H180v160Zm440 0h160v-160H620v160Z\"/>\n",
              "  </svg>\n",
              "    </button>\n",
              "\n",
              "  <style>\n",
              "    .colab-df-container {\n",
              "      display:flex;\n",
              "      gap: 12px;\n",
              "    }\n",
              "\n",
              "    .colab-df-convert {\n",
              "      background-color: #E8F0FE;\n",
              "      border: none;\n",
              "      border-radius: 50%;\n",
              "      cursor: pointer;\n",
              "      display: none;\n",
              "      fill: #1967D2;\n",
              "      height: 32px;\n",
              "      padding: 0 0 0 0;\n",
              "      width: 32px;\n",
              "    }\n",
              "\n",
              "    .colab-df-convert:hover {\n",
              "      background-color: #E2EBFA;\n",
              "      box-shadow: 0px 1px 2px rgba(60, 64, 67, 0.3), 0px 1px 3px 1px rgba(60, 64, 67, 0.15);\n",
              "      fill: #174EA6;\n",
              "    }\n",
              "\n",
              "    .colab-df-buttons div {\n",
              "      margin-bottom: 4px;\n",
              "    }\n",
              "\n",
              "    [theme=dark] .colab-df-convert {\n",
              "      background-color: #3B4455;\n",
              "      fill: #D2E3FC;\n",
              "    }\n",
              "\n",
              "    [theme=dark] .colab-df-convert:hover {\n",
              "      background-color: #434B5C;\n",
              "      box-shadow: 0px 1px 3px 1px rgba(0, 0, 0, 0.15);\n",
              "      filter: drop-shadow(0px 1px 2px rgba(0, 0, 0, 0.3));\n",
              "      fill: #FFFFFF;\n",
              "    }\n",
              "  </style>\n",
              "\n",
              "    <script>\n",
              "      const buttonEl =\n",
              "        document.querySelector('#df-7aabc36f-1f45-4355-9fe5-fb6ffd03f778 button.colab-df-convert');\n",
              "      buttonEl.style.display =\n",
              "        google.colab.kernel.accessAllowed ? 'block' : 'none';\n",
              "\n",
              "      async function convertToInteractive(key) {\n",
              "        const element = document.querySelector('#df-7aabc36f-1f45-4355-9fe5-fb6ffd03f778');\n",
              "        const dataTable =\n",
              "          await google.colab.kernel.invokeFunction('convertToInteractive',\n",
              "                                                    [key], {});\n",
              "        if (!dataTable) return;\n",
              "\n",
              "        const docLinkHtml = 'Like what you see? Visit the ' +\n",
              "          '<a target=\"_blank\" href=https://colab.research.google.com/notebooks/data_table.ipynb>data table notebook</a>'\n",
              "          + ' to learn more about interactive tables.';\n",
              "        element.innerHTML = '';\n",
              "        dataTable['output_type'] = 'display_data';\n",
              "        await google.colab.output.renderOutput(dataTable, element);\n",
              "        const docLink = document.createElement('div');\n",
              "        docLink.innerHTML = docLinkHtml;\n",
              "        element.appendChild(docLink);\n",
              "      }\n",
              "    </script>\n",
              "  </div>\n",
              "\n",
              "\n",
              "<div id=\"df-ffcdd551-d6bf-417f-8398-d1d4b194dae1\">\n",
              "  <button class=\"colab-df-quickchart\" onclick=\"quickchart('df-ffcdd551-d6bf-417f-8398-d1d4b194dae1')\"\n",
              "            title=\"Suggest charts\"\n",
              "            style=\"display:none;\">\n",
              "\n",
              "<svg xmlns=\"http://www.w3.org/2000/svg\" height=\"24px\"viewBox=\"0 0 24 24\"\n",
              "     width=\"24px\">\n",
              "    <g>\n",
              "        <path d=\"M19 3H5c-1.1 0-2 .9-2 2v14c0 1.1.9 2 2 2h14c1.1 0 2-.9 2-2V5c0-1.1-.9-2-2-2zM9 17H7v-7h2v7zm4 0h-2V7h2v10zm4 0h-2v-4h2v4z\"/>\n",
              "    </g>\n",
              "</svg>\n",
              "  </button>\n",
              "\n",
              "<style>\n",
              "  .colab-df-quickchart {\n",
              "      --bg-color: #E8F0FE;\n",
              "      --fill-color: #1967D2;\n",
              "      --hover-bg-color: #E2EBFA;\n",
              "      --hover-fill-color: #174EA6;\n",
              "      --disabled-fill-color: #AAA;\n",
              "      --disabled-bg-color: #DDD;\n",
              "  }\n",
              "\n",
              "  [theme=dark] .colab-df-quickchart {\n",
              "      --bg-color: #3B4455;\n",
              "      --fill-color: #D2E3FC;\n",
              "      --hover-bg-color: #434B5C;\n",
              "      --hover-fill-color: #FFFFFF;\n",
              "      --disabled-bg-color: #3B4455;\n",
              "      --disabled-fill-color: #666;\n",
              "  }\n",
              "\n",
              "  .colab-df-quickchart {\n",
              "    background-color: var(--bg-color);\n",
              "    border: none;\n",
              "    border-radius: 50%;\n",
              "    cursor: pointer;\n",
              "    display: none;\n",
              "    fill: var(--fill-color);\n",
              "    height: 32px;\n",
              "    padding: 0;\n",
              "    width: 32px;\n",
              "  }\n",
              "\n",
              "  .colab-df-quickchart:hover {\n",
              "    background-color: var(--hover-bg-color);\n",
              "    box-shadow: 0 1px 2px rgba(60, 64, 67, 0.3), 0 1px 3px 1px rgba(60, 64, 67, 0.15);\n",
              "    fill: var(--button-hover-fill-color);\n",
              "  }\n",
              "\n",
              "  .colab-df-quickchart-complete:disabled,\n",
              "  .colab-df-quickchart-complete:disabled:hover {\n",
              "    background-color: var(--disabled-bg-color);\n",
              "    fill: var(--disabled-fill-color);\n",
              "    box-shadow: none;\n",
              "  }\n",
              "\n",
              "  .colab-df-spinner {\n",
              "    border: 2px solid var(--fill-color);\n",
              "    border-color: transparent;\n",
              "    border-bottom-color: var(--fill-color);\n",
              "    animation:\n",
              "      spin 1s steps(1) infinite;\n",
              "  }\n",
              "\n",
              "  @keyframes spin {\n",
              "    0% {\n",
              "      border-color: transparent;\n",
              "      border-bottom-color: var(--fill-color);\n",
              "      border-left-color: var(--fill-color);\n",
              "    }\n",
              "    20% {\n",
              "      border-color: transparent;\n",
              "      border-left-color: var(--fill-color);\n",
              "      border-top-color: var(--fill-color);\n",
              "    }\n",
              "    30% {\n",
              "      border-color: transparent;\n",
              "      border-left-color: var(--fill-color);\n",
              "      border-top-color: var(--fill-color);\n",
              "      border-right-color: var(--fill-color);\n",
              "    }\n",
              "    40% {\n",
              "      border-color: transparent;\n",
              "      border-right-color: var(--fill-color);\n",
              "      border-top-color: var(--fill-color);\n",
              "    }\n",
              "    60% {\n",
              "      border-color: transparent;\n",
              "      border-right-color: var(--fill-color);\n",
              "    }\n",
              "    80% {\n",
              "      border-color: transparent;\n",
              "      border-right-color: var(--fill-color);\n",
              "      border-bottom-color: var(--fill-color);\n",
              "    }\n",
              "    90% {\n",
              "      border-color: transparent;\n",
              "      border-bottom-color: var(--fill-color);\n",
              "    }\n",
              "  }\n",
              "</style>\n",
              "\n",
              "  <script>\n",
              "    async function quickchart(key) {\n",
              "      const quickchartButtonEl =\n",
              "        document.querySelector('#' + key + ' button');\n",
              "      quickchartButtonEl.disabled = true;  // To prevent multiple clicks.\n",
              "      quickchartButtonEl.classList.add('colab-df-spinner');\n",
              "      try {\n",
              "        const charts = await google.colab.kernel.invokeFunction(\n",
              "            'suggestCharts', [key], {});\n",
              "      } catch (error) {\n",
              "        console.error('Error during call to suggestCharts:', error);\n",
              "      }\n",
              "      quickchartButtonEl.classList.remove('colab-df-spinner');\n",
              "      quickchartButtonEl.classList.add('colab-df-quickchart-complete');\n",
              "    }\n",
              "    (() => {\n",
              "      let quickchartButtonEl =\n",
              "        document.querySelector('#df-ffcdd551-d6bf-417f-8398-d1d4b194dae1 button');\n",
              "      quickchartButtonEl.style.display =\n",
              "        google.colab.kernel.accessAllowed ? 'block' : 'none';\n",
              "    })();\n",
              "  </script>\n",
              "</div>\n",
              "\n",
              "    </div>\n",
              "  </div>\n"
            ],
            "application/vnd.google.colaboratory.intrinsic+json": {
              "type": "dataframe",
              "summary": "{\n  \"name\": \"df[[\\\"title\\\", \\\"tokenized_description\\\"]]\",\n  \"rows\": 5,\n  \"fields\": [\n    {\n      \"column\": \"title\",\n      \"properties\": {\n        \"dtype\": \"string\",\n        \"num_unique_values\": 5,\n        \"samples\": [\n          \"Blood & Water\",\n          \"Kota Factory\",\n          \"Ganglands\"\n        ],\n        \"semantic_type\": \"\",\n        \"description\": \"\"\n      }\n    },\n    {\n      \"column\": \"tokenized_description\",\n      \"properties\": {\n        \"dtype\": \"object\",\n        \"semantic_type\": \"\",\n        \"description\": \"\"\n      }\n    }\n  ]\n}"
            }
          },
          "metadata": {},
          "execution_count": 10
        }
      ]
    },
    {
      "cell_type": "code",
      "source": [
        "import pandas as pd\n",
        "import spacy\n",
        "import re\n",
        "import string\n",
        "\n",
        "# Load spaCy model\n",
        "nlp = spacy.load(\"en_core_web_sm\")\n",
        "\n",
        "# Prepare stopwords (combining spaCy + NLTK)\n",
        "import nltk\n",
        "nltk.download('stopwords')\n",
        "from nltk.corpus import stopwords\n",
        "\n",
        "stopwords_spacy = spacy.lang.en.stop_words.STOP_WORDS\n",
        "stopwords_nltk = set(stopwords.words('english'))\n",
        "custom_stopwords = stopwords_spacy.union(stopwords_nltk)\n",
        "custom_stopwords = custom_stopwords.union({\"netflix\", \"series\", \"season\"})\n",
        "\n",
        "# Define preprocessing function\n",
        "def preprocess_text_spacy(text):\n",
        "    text = re.sub(r'[^\\x00-\\x7F]+', ' ', text)  # remove non-ASCII\n",
        "    text = text.strip()\n",
        "    doc = nlp(text.lower())\n",
        "\n",
        "    clean_tokens = []\n",
        "    for token in doc:\n",
        "        if (\n",
        "            token.text not in custom_stopwords\n",
        "            and token.text not in string.punctuation\n",
        "            and re.search('[a-zA-Z0-9]', token.text)\n",
        "        ):\n",
        "            clean_tokens.append(token.lemma_)\n",
        "\n",
        "    return clean_tokens\n",
        "\n",
        "# Apply preprocessing\n",
        "df['processed_description'] = df['description'].astype(str).apply(preprocess_text_spacy)\n",
        "\n",
        "# Preview\n",
        "print(df[['description', 'processed_description']].head(10))"
      ],
      "metadata": {
        "colab": {
          "base_uri": "https://localhost:8080/"
        },
        "id": "sxL5SZ5k1_oz",
        "outputId": "57e54479-838a-4dc8-f9d6-7aeff99dcb4a"
      },
      "execution_count": null,
      "outputs": [
        {
          "output_type": "stream",
          "name": "stderr",
          "text": [
            "[nltk_data] Downloading package stopwords to /root/nltk_data...\n",
            "[nltk_data]   Package stopwords is already up-to-date!\n"
          ]
        },
        {
          "output_type": "stream",
          "name": "stdout",
          "text": [
            "                                         description  \\\n",
            "0  As her father nears the end of his life, filmm...   \n",
            "1  After crossing paths at a party, a Cape Town t...   \n",
            "2  To protect his family from a powerful drug lor...   \n",
            "3  Feuds, flirtations and toilet talk go down amo...   \n",
            "4  In a city of coaching centers known to train I...   \n",
            "5  The arrival of a charismatic young priest brin...   \n",
            "6  Equestria's divided. But a bright-eyed hero be...   \n",
            "7  On a photo shoot in Ghana, an American model s...   \n",
            "8  A talented batch of amateur bakers face off in...   \n",
            "9  A woman adjusting to life after a loss contend...   \n",
            "\n",
            "                               processed_description  \n",
            "0  [father, near, end, life, filmmaker, kirsten, ...  \n",
            "1  [cross, path, party, cape, town, teen, set, pr...  \n",
            "2  [protect, family, powerful, drug, lord, skille...  \n",
            "3  [feuds, flirtation, toilet, talk, incarcerated...  \n",
            "4  [city, coaching, center, know, train, india, f...  \n",
            "5  [arrival, charismatic, young, priest, bring, g...  \n",
            "6  [equestria, divided, bright, eyed, hero, belie...  \n",
            "7  [photo, shoot, ghana, american, model, slip, t...  \n",
            "8  [talented, batch, amateur, baker, face, 10, we...  \n",
            "9  [woman, adjust, life, loss, contend, feisty, b...  \n"
          ]
        }
      ]
    },
    {
      "cell_type": "markdown",
      "source": [
        "### tfidf"
      ],
      "metadata": {
        "id": "hDdGriA-I8Ds"
      }
    },
    {
      "cell_type": "code",
      "source": [
        "# Join tokens back into a single string so TF-IDF can handle them easily\n",
        "df['processed_text_str'] = df['processed_description'].apply(lambda tokens: ' '.join(tokens))\n",
        "\n",
        "from sklearn.feature_extraction.text import TfidfVectorizer\n",
        "\n",
        "# Initialize and fit the TF-IDF vectorizer on the processed descriptions\n",
        "vectorizer = TfidfVectorizer()\n",
        "X_tfidf = vectorizer.fit_transform(df['processed_text_str'])\n",
        "print(\"TF-IDF matrix shape:\", X_tfidf.shape)  # (number of samples, number of features)\n",
        "\n",
        "# Get some insights: average TF-IDF weight for each term across the corpus\n",
        "avg_tfidf = np.mean(X_tfidf.toarray(), axis=0)\n",
        "top_n = 20\n",
        "top_indices = avg_tfidf.argsort()[-top_n:][::-1]\n",
        "top_features = [vectorizer.get_feature_names_out()[i] for i in top_indices]\n",
        "print(\"Top TF-IDF features:\", top_features)"
      ],
      "metadata": {
        "colab": {
          "base_uri": "https://localhost:8080/"
        },
        "id": "ncuuFqr3204a",
        "outputId": "5d6d79e9-838a-4990-b62a-9fdfb9ee910e"
      },
      "execution_count": null,
      "outputs": [
        {
          "output_type": "stream",
          "name": "stdout",
          "text": [
            "TF-IDF matrix shape: (8715, 15269)\n",
            "Top TF-IDF features: ['life', 'young', 'find', 'family', 'woman', 'new', 'man', 'friend', 'love', 'world', 'year', 'take', 'help', 'documentary', 'school', 'old', 'try', 'home', 'father', 'story']\n"
          ]
        }
      ]
    },
    {
      "cell_type": "code",
      "source": [
        "import pandas as pd\n",
        "import re\n",
        "from sklearn.model_selection import train_test_split\n",
        "from sklearn.feature_extraction.text import TfidfVectorizer\n",
        "from sklearn.preprocessing import LabelEncoder\n",
        "\n",
        "# Load dataset\n",
        "df = pd.read_csv('/content/netflix_titles.csv', encoding='ISO-8859-1')\n",
        "\n",
        "# Step 1: Extract Primary Genre\n",
        "# Take the first genre listed as the 'primary genre'\n",
        "df['genre'] = df['listed_in'].astype(str).apply(lambda x: x.split(',')[0].strip())\n",
        "\n",
        "# Step 2: Clean Descriptions\n",
        "def clean_description(text):\n",
        "    if pd.isna(text):  # Handle NaN values\n",
        "        return \"\"\n",
        "    return re.sub(r'[^a-zA-Z0-9.,!?\\'\" ]', '', text)\n",
        "\n",
        "df['cleaned_description'] = df['description'].apply(clean_description)\n",
        "\n",
        "# Step 3: TF-IDF Vectorization\n",
        "vectorizer = TfidfVectorizer(stop_words='english', ngram_range=(1, 2), min_df=3, max_df=0.9)\n",
        "X = vectorizer.fit_transform(df['cleaned_description'])\n",
        "\n",
        "# Step 4: Encode Genre Labels\n",
        "label_encoder = LabelEncoder()\n",
        "y = label_encoder.fit_transform(df['genre'])\n",
        "\n",
        "# Check results\n",
        "print(\"✅ Sample Data:\")\n",
        "print(df[['title', 'genre', 'cleaned_description']].head(5))\n"
      ],
      "metadata": {
        "colab": {
          "base_uri": "https://localhost:8080/"
        },
        "id": "bS0mXFa2_Fko",
        "outputId": "863a19fa-dc0a-466e-c2dc-212637cae29d"
      },
      "execution_count": null,
      "outputs": [
        {
          "output_type": "stream",
          "name": "stdout",
          "text": [
            "✅ Sample Data:\n",
            "                   title                   genre  \\\n",
            "0   Dick Johnson Is Dead           Documentaries   \n",
            "1          Blood & Water  International TV Shows   \n",
            "2              Ganglands          Crime TV Shows   \n",
            "3  Jailbirds New Orleans              Docuseries   \n",
            "4           Kota Factory  International TV Shows   \n",
            "\n",
            "                                 cleaned_description  \n",
            "0  As her father nears the end of his life, filmm...  \n",
            "1  After crossing paths at a party, a Cape Town t...  \n",
            "2  To protect his family from a powerful drug lor...  \n",
            "3  Feuds, flirtations and toilet talk go down amo...  \n",
            "4  In a city of coaching centers known to train I...  \n"
          ]
        }
      ]
    },
    {
      "cell_type": "code",
      "source": [
        "import pandas as pd\n",
        "\n",
        "# 1) Load dataset\n",
        "df = pd.read_csv('netflix_titles.csv', encoding='ISO-8859-1')\n",
        "\n",
        "# 2) Convert 'listed_in' to a list of genres\n",
        "df['genre_list'] = df['listed_in'].astype(str).apply(lambda x: [g.strip() for g in x.split(',')])\n"
      ],
      "metadata": {
        "id": "0To0q2RwCUK3"
      },
      "execution_count": null,
      "outputs": []
    },
    {
      "cell_type": "code",
      "source": [
        "import re\n",
        "\n",
        "def clean_description(text):\n",
        "    if pd.isna(text):\n",
        "        return \"\"\n",
        "    # Remove non-alphanumeric except basic punctuation\n",
        "    return re.sub(r'[^a-zA-Z0-9.,!?\\'\" ]', '', text)\n",
        "\n",
        "df['cleaned_description'] = df['description'].apply(clean_description)\n"
      ],
      "metadata": {
        "id": "NJkO4WL2DcIl"
      },
      "execution_count": null,
      "outputs": []
    },
    {
      "cell_type": "code",
      "source": [
        "from sklearn.preprocessing import MultiLabelBinarizer\n",
        "\n",
        "mlb = MultiLabelBinarizer()\n",
        "y = mlb.fit_transform(df['genre_list'])  # shape: (num_samples, num_unique_genres)\n",
        "genre_labels = mlb.classes_  # array of genre names\n"
      ],
      "metadata": {
        "id": "4qL-cp7EDeEZ"
      },
      "execution_count": null,
      "outputs": []
    },
    {
      "cell_type": "code",
      "source": [
        "from sklearn.feature_extraction.text import TfidfVectorizer\n",
        "\n",
        "vectorizer = TfidfVectorizer(stop_words='english', ngram_range=(1,2), min_df=2, max_df=0.9)\n",
        "X = vectorizer.fit_transform(df['cleaned_description'])  # shape: (num_samples, num_features)\n",
        "\n",
        "print(\"Feature matrix shape:\", X.shape)\n",
        "print(\"Label matrix shape:\", y.shape)\n"
      ],
      "metadata": {
        "colab": {
          "base_uri": "https://localhost:8080/"
        },
        "id": "H8Dpc2NzDgka",
        "outputId": "4cb04741-1390-41bf-c5a6-f02e8a86be75"
      },
      "execution_count": null,
      "outputs": [
        {
          "output_type": "stream",
          "name": "stdout",
          "text": [
            "Feature matrix shape: (8809, 17008)\n",
            "Label matrix shape: (8809, 48)\n"
          ]
        }
      ]
    },
    {
      "cell_type": "markdown",
      "source": [
        "### model training part"
      ],
      "metadata": {
        "id": "nNW9IPskFVlO"
      }
    },
    {
      "cell_type": "code",
      "source": [
        "from sklearn.metrics import f1_score, make_scorer\n",
        "\n",
        "def multi_label_f1_micro(y_true, y_pred):\n",
        "    return f1_score(y_true, y_pred, average='micro')\n",
        "\n",
        "f1_micro_scorer = make_scorer(multi_label_f1_micro)\n"
      ],
      "metadata": {
        "id": "fjHzpWh5Di-3"
      },
      "execution_count": null,
      "outputs": []
    },
    {
      "cell_type": "code",
      "source": [
        "from sklearn.multiclass import OneVsRestClassifier\n",
        "from sklearn.linear_model import LogisticRegression\n",
        "from sklearn.ensemble import RandomForestClassifier\n",
        "from xgboost import XGBClassifier\n",
        "from sklearn.naive_bayes import MultinomialNB\n"
      ],
      "metadata": {
        "id": "ZqL4SsJ7Dj2Q"
      },
      "execution_count": null,
      "outputs": []
    },
    {
      "cell_type": "code",
      "source": [
        "models = {\n",
        "    \"LogisticRegression\": LogisticRegression(max_iter=1000),\n",
        "    \"RandomForest\": RandomForestClassifier(n_estimators=200, random_state=42),\n",
        "    \"XGBoost\": XGBClassifier(eval_metric='logloss', use_label_encoder=False, random_state=42),\n",
        "    \"NaiveBayes\": MultinomialNB()\n",
        "}\n"
      ],
      "metadata": {
        "id": "7MQSiPyqDlaT"
      },
      "execution_count": null,
      "outputs": []
    },
    {
      "cell_type": "code",
      "source": [
        "from sklearn.decomposition import TruncatedSVD\n",
        "\n",
        "svd = TruncatedSVD(n_components=300, random_state=42)\n",
        "X_reduced = svd.fit_transform(X)  # use the output of TF-IDF"
      ],
      "metadata": {
        "id": "O1TRrgV8MQfM"
      },
      "execution_count": null,
      "outputs": []
    },
    {
      "cell_type": "code",
      "source": [
        "import pandas as pd\n",
        "import re\n",
        "\n",
        "# Load the dataset\n",
        "df = pd.read_csv('netflix_titles.csv', encoding='ISO-8859-1')\n",
        "\n",
        "# Extract the first genre from 'listed_in'\n",
        "df['genre'] = df['listed_in'].astype(str).apply(lambda x: x.split(',')[0].strip())\n",
        "\n",
        "# Clean the 'description' column\n",
        "def clean_description(text):\n",
        "    if pd.isna(text):\n",
        "        return \"\"\n",
        "    return re.sub(r'[^a-zA-Z0-9.,!?\\'\" ]', '', text)\n",
        "\n",
        "df['cleaned_description'] = df['description'].apply(clean_description)"
      ],
      "metadata": {
        "id": "j796rnbpMUEL"
      },
      "execution_count": null,
      "outputs": []
    },
    {
      "cell_type": "code",
      "source": [
        "from sklearn.feature_extraction.text import TfidfVectorizer\n",
        "\n",
        "vectorizer = TfidfVectorizer(\n",
        "    stop_words='english',\n",
        "    ngram_range=(1, 2),\n",
        "    min_df=2,\n",
        "    max_df=0.9\n",
        ")\n",
        "X = vectorizer.fit_transform(df['cleaned_description'])\n"
      ],
      "metadata": {
        "id": "xmY89E5JM9Z-"
      },
      "execution_count": null,
      "outputs": []
    },
    {
      "cell_type": "code",
      "source": [
        "from sklearn.preprocessing import LabelEncoder\n",
        "\n",
        "label_encoder = LabelEncoder()\n",
        "y = label_encoder.fit_transform(df['genre'])\n"
      ],
      "metadata": {
        "id": "zWL77UEkM_Qw"
      },
      "execution_count": null,
      "outputs": []
    },
    {
      "cell_type": "code",
      "source": [
        "from sklearn.decomposition import TruncatedSVD, NMF\n",
        "from sklearn.linear_model import LogisticRegression\n",
        "from sklearn.ensemble import RandomForestClassifier\n",
        "from xgboost import XGBClassifier\n",
        "from sklearn.naive_bayes import MultinomialNB\n"
      ],
      "metadata": {
        "id": "7uBCUHJPNA11"
      },
      "execution_count": null,
      "outputs": []
    },
    {
      "cell_type": "code",
      "source": [
        "from sklearn.pipeline import Pipeline\n",
        "\n",
        "# 1) Logistic Regression + SVD\n",
        "pipe_lr = Pipeline([\n",
        "    ('svd', TruncatedSVD(n_components=300, random_state=42)),\n",
        "    ('clf', LogisticRegression(max_iter=1000, solver='saga', n_jobs=-1))\n",
        "])\n",
        "\n",
        "# 2) MultinomialNB + NMF (ensures non-negative features)\n",
        "pipe_nb = Pipeline([\n",
        "    ('nmf', NMF(n_components=50, init='random', random_state=42)),\n",
        "    ('clf', MultinomialNB())\n",
        "])\n",
        "\n",
        "# 3) RandomForest + SVD\n",
        "pipe_rf = Pipeline([\n",
        "    ('svd', TruncatedSVD(n_components=300, random_state=42)),\n",
        "    ('clf', RandomForestClassifier(n_estimators=100, random_state=42, n_jobs=-1))\n",
        "])\n",
        "\n",
        "# 4) XGBoost + SVD\n",
        "pipe_xgb = Pipeline([\n",
        "    ('svd', TruncatedSVD(n_components=300, random_state=42)),\n",
        "    ('clf', XGBClassifier(eval_metric='logloss', use_label_encoder=False, random_state=42, n_jobs=-1))\n",
        "])\n"
      ],
      "metadata": {
        "id": "y_KhAdWJNCgi"
      },
      "execution_count": null,
      "outputs": []
    },
    {
      "cell_type": "code",
      "source": [
        "import numpy as np\n",
        "from sklearn.model_selection import KFold, cross_val_score\n",
        "from sklearn.metrics import f1_score, make_scorer\n",
        "\n",
        "def f1_micro(y_true, y_pred):\n",
        "    return f1_score(y_true, y_pred, average='micro')\n",
        "\n",
        "f1_micro_scorer = make_scorer(f1_micro)\n",
        "\n",
        "kf = KFold(n_splits=3, shuffle=True, random_state=42)\n",
        "\n",
        "models = {\n",
        "    \"LogisticRegression+SVD\": pipe_lr,\n",
        "    \"MultinomialNB+NMF\": pipe_nb,\n",
        "    \"RandomForest+SVD\": pipe_rf,\n",
        "    \"XGBoost+SVD\": pipe_xgb\n",
        "}\n",
        "\n",
        "for name, model_pipeline in models.items():\n",
        "    scores = cross_val_score(\n",
        "        model_pipeline,\n",
        "        X,\n",
        "        y,\n",
        "        cv=kf,\n",
        "        scoring=f1_micro_scorer,\n",
        "        n_jobs=-1\n",
        "    )\n",
        "    print(f\"Model: {name}\")\n",
        "    print(f\"F1-micro (3-fold avg): {np.mean(scores):.4f} ± {np.std(scores):.4f}\")\n",
        "    print(\"-\" * 50)\n"
      ],
      "metadata": {
        "colab": {
          "base_uri": "https://localhost:8080/"
        },
        "id": "78mKP7OFNEWT",
        "outputId": "b2e7c3b2-6177-497e-fb4b-daf12ce9e271"
      },
      "execution_count": null,
      "outputs": [
        {
          "output_type": "stream",
          "name": "stdout",
          "text": [
            "Model: LogisticRegression+SVD\n",
            "F1-micro (3-fold avg): 0.3544 ± 0.0153\n",
            "--------------------------------------------------\n",
            "Model: MultinomialNB+NMF\n",
            "F1-micro (3-fold avg): 0.1816 ± 0.0116\n",
            "--------------------------------------------------\n",
            "Model: RandomForest+SVD\n",
            "F1-micro (3-fold avg): 0.3382 ± 0.0128\n",
            "--------------------------------------------------\n",
            "Model: XGBoost+SVD\n",
            "F1-micro (3-fold avg): nan ± nan\n",
            "--------------------------------------------------\n"
          ]
        },
        {
          "output_type": "stream",
          "name": "stderr",
          "text": [
            "/usr/local/lib/python3.11/dist-packages/sklearn/model_selection/_validation.py:528: FitFailedWarning: \n",
            "2 fits failed out of a total of 3.\n",
            "The score on these train-test partitions for these parameters will be set to nan.\n",
            "If these failures are not expected, you can try to debug them by setting error_score='raise'.\n",
            "\n",
            "Below are more details about the failures:\n",
            "--------------------------------------------------------------------------------\n",
            "1 fits failed with the following error:\n",
            "Traceback (most recent call last):\n",
            "  File \"/usr/local/lib/python3.11/dist-packages/sklearn/model_selection/_validation.py\", line 866, in _fit_and_score\n",
            "    estimator.fit(X_train, y_train, **fit_params)\n",
            "  File \"/usr/local/lib/python3.11/dist-packages/sklearn/base.py\", line 1389, in wrapper\n",
            "    return fit_method(estimator, *args, **kwargs)\n",
            "           ^^^^^^^^^^^^^^^^^^^^^^^^^^^^^^^^^^^^^^\n",
            "  File \"/usr/local/lib/python3.11/dist-packages/sklearn/pipeline.py\", line 662, in fit\n",
            "    self._final_estimator.fit(Xt, y, **last_step_params[\"fit\"])\n",
            "  File \"/usr/local/lib/python3.11/dist-packages/xgboost/core.py\", line 726, in inner_f\n",
            "    return func(**kwargs)\n",
            "           ^^^^^^^^^^^^^^\n",
            "  File \"/usr/local/lib/python3.11/dist-packages/xgboost/sklearn.py\", line 1559, in fit\n",
            "    raise ValueError(\n",
            "ValueError: Invalid classes inferred from unique values of `y`.  Expected: [ 0  1  2  3  4  5  6  7  8  9 10 11 12 13 14 15 16 17 18 19 20 21 22 23\n",
            " 24 25 26 27 28 29 30 31 32 33], got [ 0  1  2  3  4  5  6  7  8  9 10 11 12 13 14 15 16 17 18 20 21 22 23 24\n",
            " 25 27 29 30 31 32 33 34 36 37]\n",
            "\n",
            "--------------------------------------------------------------------------------\n",
            "1 fits failed with the following error:\n",
            "Traceback (most recent call last):\n",
            "  File \"/usr/local/lib/python3.11/dist-packages/sklearn/model_selection/_validation.py\", line 866, in _fit_and_score\n",
            "    estimator.fit(X_train, y_train, **fit_params)\n",
            "  File \"/usr/local/lib/python3.11/dist-packages/sklearn/base.py\", line 1389, in wrapper\n",
            "    return fit_method(estimator, *args, **kwargs)\n",
            "           ^^^^^^^^^^^^^^^^^^^^^^^^^^^^^^^^^^^^^^\n",
            "  File \"/usr/local/lib/python3.11/dist-packages/sklearn/pipeline.py\", line 662, in fit\n",
            "    self._final_estimator.fit(Xt, y, **last_step_params[\"fit\"])\n",
            "  File \"/usr/local/lib/python3.11/dist-packages/xgboost/core.py\", line 726, in inner_f\n",
            "    return func(**kwargs)\n",
            "           ^^^^^^^^^^^^^^\n",
            "  File \"/usr/local/lib/python3.11/dist-packages/xgboost/sklearn.py\", line 1559, in fit\n",
            "    raise ValueError(\n",
            "ValueError: Invalid classes inferred from unique values of `y`.  Expected: [ 0  1  2  3  4  5  6  7  8  9 10 11 12 13 14 15 16 17 18 19 20 21 22 23\n",
            " 24 25 26 27 28 29 30 31 32 33 34 35 36], got [ 0  1  2  3  4  5  6  7  8  9 10 11 13 14 15 16 17 18 19 20 21 22 23 24\n",
            " 25 26 27 28 29 30 31 32 33 34 35 36 37]\n",
            "\n",
            "  warnings.warn(some_fits_failed_message, FitFailedWarning)\n"
          ]
        }
      ]
    },
    {
      "cell_type": "markdown",
      "source": [
        "### clustering"
      ],
      "metadata": {
        "id": "98V-3ZY6JOxo"
      }
    },
    {
      "cell_type": "code",
      "source": [
        "# Join tokens back into a single string so TF-IDF can handle them easily\n",
        "df['processed_text_str'] = df['processed_description'].apply(lambda tokens: ' '.join(tokens))\n",
        "\n",
        "from sklearn.feature_extraction.text import TfidfVectorizer\n",
        "\n",
        "# Initialize and fit the TF-IDF vectorizer on the processed descriptions\n",
        "vectorizer = TfidfVectorizer()\n",
        "X_tfidf = vectorizer.fit_transform(df['processed_text_str'])\n",
        "print(\"TF-IDF matrix shape:\", X_tfidf.shape)  # (number of samples, number of features)\n",
        "\n",
        "# Get some insights: average TF-IDF weight for each term across the corpus\n",
        "avg_tfidf = np.mean(X_tfidf.toarray(), axis=0)\n",
        "top_n = 20\n",
        "top_indices = avg_tfidf.argsort()[-top_n:][::-1]\n",
        "top_features = [vectorizer.get_feature_names_out()[i] for i in top_indices]\n",
        "print(\"Top TF-IDF features:\", top_features)"
      ],
      "metadata": {
        "colab": {
          "base_uri": "https://localhost:8080/"
        },
        "id": "d27M_rfx5wIV",
        "outputId": "c0311f45-7fcc-446b-a52a-c6dbf2ad3e85"
      },
      "execution_count": null,
      "outputs": [
        {
          "output_type": "stream",
          "name": "stdout",
          "text": [
            "TF-IDF matrix shape: (8809, 15318)\n",
            "Top TF-IDF features: ['life', 'young', 'find', 'family', 'woman', 'new', 'man', 'friend', 'love', 'world', 'year', 'take', 'help', 'documentary', 'school', 'old', 'try', 'home', 'father', 'story']\n"
          ]
        }
      ]
    },
    {
      "cell_type": "code",
      "source": [
        "from sklearn.cluster import KMeans\n",
        "from sklearn.feature_extraction.text import TfidfVectorizer\n",
        "\n",
        "# Vectorize the processed descriptions\n",
        "vectorizer = TfidfVectorizer(stop_words='english', ngram_range=(1, 2), min_df=2, max_df=0.9)\n",
        "X_tfidf_desc = vectorizer.fit_transform(df['processed_text_str'])  # Use processed description\n",
        "\n",
        "# Perform KMeans clustering\n",
        "num_clusters = 6\n",
        "kmeans = KMeans(n_clusters=num_clusters, random_state=42)\n",
        "clusters = kmeans.fit_predict(X_tfidf_desc)\n",
        "\n",
        "# Assign cluster labels\n",
        "df['cluster'] = clusters\n",
        "\n",
        "# Display results\n",
        "print(\"Cluster assignments (first 10):\")\n",
        "print(df[['title', 'processed_text_str', 'cluster']].head(10))"
      ],
      "metadata": {
        "colab": {
          "base_uri": "https://localhost:8080/"
        },
        "id": "VNM8c5ti5Pib",
        "outputId": "e120ccbd-fc56-4413-bed4-cee2fae5eaec"
      },
      "execution_count": null,
      "outputs": [
        {
          "output_type": "stream",
          "name": "stdout",
          "text": [
            "Cluster assignments (first 10):\n",
            "                              title  \\\n",
            "0              Dick Johnson Is Dead   \n",
            "1                     Blood & Water   \n",
            "2                         Ganglands   \n",
            "3             Jailbirds New Orleans   \n",
            "4                      Kota Factory   \n",
            "5                     Midnight Mass   \n",
            "6  My Little Pony: A New Generation   \n",
            "7                           Sankofa   \n",
            "8     The Great British Baking Show   \n",
            "9                      The Starling   \n",
            "\n",
            "                                  processed_text_str  cluster  \n",
            "0  father near end life filmmaker kirsten johnson...        4  \n",
            "1  cross path party cape town teen set prove priv...        4  \n",
            "2  protect family powerful drug lord skilled thie...        2  \n",
            "3  feud flirtation toilet talk incarcerated woman...        1  \n",
            "4  city coach center know train india fine colleg...        5  \n",
            "5  arrival charismatic young priest bring gloriou...        1  \n",
            "6  equestria divided bright eyed hero believe ear...        4  \n",
            "7  photo shoot ghana american model slip time ens...        4  \n",
            "8  talented batch amateur baker face 10 week comp...        3  \n",
            "9  woman adjust life loss contend feisty bird tak...        1  \n"
          ]
        }
      ]
    },
    {
      "cell_type": "code",
      "source": [
        "import matplotlib.pyplot as plt\n",
        "from sklearn.cluster import KMeans\n",
        "from sklearn.metrics import silhouette_score\n",
        "\n",
        "# Finding the optimal number of clusters using the Elbow Method\n",
        "inertia = []\n",
        "silhouette_scores = []\n",
        "\n",
        "for k in range(2, 11):  # Test multiple cluster sizes\n",
        "    kmeans = KMeans(n_clusters=k, random_state=42)\n",
        "    kmeans.fit(X_tfidf_desc)\n",
        "    inertia.append(kmeans.inertia_)  # Elbow Method\n",
        "    silhouette_scores.append(silhouette_score(X_tfidf_desc, kmeans.labels_))  # Silhouette Score\n",
        "\n",
        "# Plot Elbow Method\n",
        "plt.figure(figsize=(10, 5))\n",
        "plt.plot(range(2, 11), inertia, marker='o')\n",
        "plt.title('Elbow Method - Optimal K')\n",
        "plt.xlabel('Number of Clusters')\n",
        "plt.ylabel('Inertia')\n",
        "plt.show()\n",
        "\n",
        "# Plot Silhouette Scores\n",
        "plt.figure(figsize=(10, 5))\n",
        "plt.plot(range(2, 11), silhouette_scores, marker='o', color='green')\n",
        "plt.title('Silhouette Score - Optimal K')\n",
        "plt.xlabel('Number of Clusters')\n",
        "plt.ylabel('Silhouette Score')\n",
        "plt.show()"
      ],
      "metadata": {
        "colab": {
          "base_uri": "https://localhost:8080/",
          "height": 957
        },
        "id": "oih05VdwGHlV",
        "outputId": "cf34c295-bb6f-433c-abb3-c68f207a6d8c"
      },
      "execution_count": null,
      "outputs": [
        {
          "output_type": "display_data",
          "data": {
            "text/plain": [
              "<Figure size 1000x500 with 1 Axes>"
            ],
            "image/png": "[encoded data removed]"
          },
          "metadata": {}
        },
        {
          "output_type": "display_data",
          "data": {
            "text/plain": [
              "<Figure size 1000x500 with 1 Axes>"
            ],
            "image/png": "[encoded data removed]"
          },
          "metadata": {}
        }
      ]
    },
    {
      "cell_type": "code",
      "source": [
        "from sklearn.cluster import KMeans\n",
        "from sklearn.feature_extraction.text import TfidfVectorizer\n",
        "\n",
        "# Vectorize the processed descriptions\n",
        "vectorizer = TfidfVectorizer(stop_words='english', ngram_range=(1, 2), min_df=2, max_df=0.9)\n",
        "X_tfidf_desc = vectorizer.fit_transform(df['processed_text_str'])  # Use processed description\n",
        "\n",
        "# Perform KMeans clustering\n",
        "num_clusters = 6\n",
        "kmeans = KMeans(n_clusters=num_clusters, random_state=42)\n",
        "clusters = kmeans.fit_predict(X_tfidf_desc)\n",
        "\n",
        "# Assign cluster labels\n",
        "df['cluster'] = clusters\n",
        "\n",
        "# Display results\n",
        "print(\"Cluster assignments (first 10):\")\n",
        "print(df[['title', 'processed_text_str', 'cluster']].head(10))"
      ],
      "metadata": {
        "id": "Ria5w-KQFyb7",
        "colab": {
          "base_uri": "https://localhost:8080/"
        },
        "outputId": "3fd4961a-7522-46e7-c28a-5d3063302ace"
      },
      "execution_count": null,
      "outputs": [
        {
          "output_type": "stream",
          "name": "stdout",
          "text": [
            "Cluster assignments (first 10):\n",
            "                              title  \\\n",
            "0              Dick Johnson Is Dead   \n",
            "1                     Blood & Water   \n",
            "2                         Ganglands   \n",
            "3             Jailbirds New Orleans   \n",
            "4                      Kota Factory   \n",
            "5                     Midnight Mass   \n",
            "6  My Little Pony: A New Generation   \n",
            "7                           Sankofa   \n",
            "8     The Great British Baking Show   \n",
            "9                      The Starling   \n",
            "\n",
            "                                  processed_text_str  cluster  \n",
            "0  father near end life filmmaker kirsten johnson...        4  \n",
            "1  cross path party cape town teen set prove priv...        4  \n",
            "2  protect family powerful drug lord skilled thie...        2  \n",
            "3  feud flirtation toilet talk incarcerated woman...        1  \n",
            "4  city coach center know train india fine colleg...        5  \n",
            "5  arrival charismatic young priest bring gloriou...        1  \n",
            "6  equestria divided bright eyed hero believe ear...        4  \n",
            "7  photo shoot ghana american model slip time ens...        4  \n",
            "8  talented batch amateur baker face 10 week comp...        3  \n",
            "9  woman adjust life loss contend feisty bird tak...        1  \n"
          ]
        }
      ]
    },
    {
      "cell_type": "code",
      "source": [
        "# Display Sample Titles from Each Cluster\n",
        "for cluster_id in sorted(df['cluster'].unique()):\n",
        "    print(f\"\\nCluster {cluster_id} Titles:\")\n",
        "    print(df[df['cluster'] == cluster_id][['title', 'processed_text_str']].head(5))\n",
        "\n",
        "# Show Top Words in Each Cluster\n",
        "from collections import Counter\n",
        "import numpy as np\n",
        "\n",
        "def get_top_words(cluster_num, top_n=10):\n",
        "    cluster_text = \" \".join(df[df['cluster'] == cluster_num]['processed_text_str'])\n",
        "    word_counts = Counter(cluster_text.split())\n",
        "    return dict(word_counts.most_common(top_n))\n",
        "\n",
        "# Display the top words in each cluster\n",
        "for cluster_id in sorted(df['cluster'].unique()):\n",
        "    print(f\"\\nCluster {cluster_id} Top Words:\")\n",
        "    print(get_top_words(cluster_id, top_n=10))"
      ],
      "metadata": {
        "id": "HW8pQCwbGSlN",
        "colab": {
          "base_uri": "https://localhost:8080/"
        },
        "outputId": "f392878c-2782-4533-ff1f-1cfe7017b28e"
      },
      "execution_count": null,
      "outputs": [
        {
          "output_type": "stream",
          "name": "stdout",
          "text": [
            "\n",
            "Cluster 0 Titles:\n",
            "                          title  \\\n",
            "48                 Training Day   \n",
            "82                      Lucifer   \n",
            "84         Omo Ghetto: the Saga   \n",
            "91   The Women and the Murderer   \n",
            "122                  In the Cut   \n",
            "\n",
            "                                    processed_text_str  \n",
            "48   rookie cop day prove veteran lapd narcotic off...  \n",
            "82   bore lord hell devil relocate los angeles open...  \n",
            "84   twin reunite good hearted female gangster upti...  \n",
            "91   documentary trace capture serial killer guy ge...  \n",
            "122  embark affair cop probe murder young woman ins...  \n",
            "\n",
            "Cluster 1 Titles:\n",
            "                    title                                 processed_text_str\n",
            "3   Jailbirds New Orleans  feud flirtation toilet talk incarcerated woman...\n",
            "5           Midnight Mass  arrival charismatic young priest bring gloriou...\n",
            "9            The Starling  woman adjust life loss contend feisty bird tak...\n",
            "12           Je Suis Karl  family murder terrorist bombing young woman un...\n",
            "24                  Jeans  father man love insist twin son marry twin sis...\n",
            "\n",
            "Cluster 2 Titles:\n",
            "                     title                                 processed_text_str\n",
            "2                Ganglands  protect family powerful drug lord skilled thie...\n",
            "26          Minsara Kanavu  tangle love triangle ensue man fall woman stud...\n",
            "28              Dark Skies  family idyllic suburban life shatter alien for...\n",
            "47   The Smart Money Woman  glamorous millennial strive success juggle car...\n",
            "103         Shadow Parties  family face destruction long run conflict comm...\n",
            "\n",
            "Cluster 3 Titles:\n",
            "                               title  \\\n",
            "8      The Great British Baking Show   \n",
            "13  Confessions of an Invisible Girl   \n",
            "18                         Intrusion   \n",
            "21            Resurrection: Ertugrul   \n",
            "34           Tayo and Little Wizards   \n",
            "\n",
            "                                   processed_text_str  \n",
            "8   talented batch amateur baker face 10 week comp...  \n",
            "13  clever socially awkward tet join new school fi...  \n",
            "18  deadly home invasion couple new dream house tr...  \n",
            "21  good deed unwittingly endanger clan 13th centu...  \n",
            "34  tayo speed adventure friend kidnap evil magici...  \n",
            "\n",
            "Cluster 4 Titles:\n",
            "                                  title  \\\n",
            "0                  Dick Johnson Is Dead   \n",
            "1                         Blood & Water   \n",
            "6      My Little Pony: A New Generation   \n",
            "7                               Sankofa   \n",
            "10  Vendetta: Truth, Lies and The Mafia   \n",
            "\n",
            "                                   processed_text_str  \n",
            "0   father near end life filmmaker kirsten johnson...  \n",
            "1   cross path party cape town teen set prove priv...  \n",
            "6   equestria divided bright eyed hero believe ear...  \n",
            "7   photo shoot ghana american model slip time ens...  \n",
            "10  sicily boast bold anti mafia coalition happen ...  \n",
            "\n",
            "Cluster 5 Titles:\n",
            "                     title                                 processed_text_str\n",
            "4             Kota Factory  city coach center know train india fine colleg...\n",
            "11        Bangkok Breaking  struggle earn living bangkok man join emergenc...\n",
            "30         Ankahi Kahaniya  big city life buzz lonely soul discover surpri...\n",
            "36          The Stronghold  tired small time grind marseille cop chance bu...\n",
            "45  My Heroes Were Cowboys  robin wiltshire painful childhood rescue weste...\n",
            "\n",
            "Cluster 0 Top Words:\n",
            "{'murder': 264, 'cop': 118, 'detective': 90, 'crime': 73, 'case': 65, 'killer': 56, 'police': 48, 'find': 46, 'suspect': 36, 'investigate': 36}\n",
            "\n",
            "Cluster 1 Top Words:\n",
            "{'young': 612, 'woman': 549, 'man': 248, 'life': 154, 'find': 109, 'love': 104, 'father': 72, 'year': 58, 'new': 55, 'mother': 52}\n",
            "\n",
            "Cluster 2 Top Words:\n",
            "{'family': 611, 'love': 432, 'life': 163, 'fall': 111, 'find': 87, 'year': 76, 'man': 63, 'young': 59, 'home': 55, 'girl': 54}\n",
            "\n",
            "Cluster 3 Top Words:\n",
            "{'friend': 541, 'new': 441, 'good': 154, 'life': 109, 'find': 105, 'school': 80, 'help': 74, 'world': 62, 'old': 61, 'high': 60}\n",
            "\n",
            "Cluster 4 Top Words:\n",
            "{'life': 565, 'world': 383, 'find': 340, 'documentary': 279, 'year': 247, 'man': 240, 'take': 231, 'story': 220, 'school': 201, 'high': 190}\n",
            "\n",
            "Cluster 5 Top Words:\n",
            "{'struggle': 197, 'city': 194, 'big': 146, 'new': 135, 'york': 92, 'life': 69, 'world': 50, 'find': 46, 'family': 29, 'young': 29}\n"
          ]
        }
      ]
    },
    {
      "cell_type": "code",
      "source": [
        "# Plot the distribution of clustersimport seaborn as sns\n",
        "import seaborn as sns\n",
        "\n",
        "plt.figure(figsize=(8, 5))\n",
        "sns.countplot(x='cluster', data=df, palette='viridis')\n",
        "plt.title(\"Distribution of Clusters\")\n",
        "plt.xlabel(\"Cluster\")\n",
        "plt.ylabel(\"Count\")\n",
        "plt.show()"
      ],
      "metadata": {
        "id": "K1q1F20vGflx",
        "colab": {
          "base_uri": "https://localhost:8080/",
          "height": 574
        },
        "outputId": "47fae85a-def1-4c46-e9b1-9a5a7725eddc"
      },
      "execution_count": null,
      "outputs": [
        {
          "output_type": "stream",
          "name": "stderr",
          "text": [
            "<ipython-input-45-720ce0401bad>:5: FutureWarning: \n",
            "\n",
            "Passing `palette` without assigning `hue` is deprecated and will be removed in v0.14.0. Assign the `x` variable to `hue` and set `legend=False` for the same effect.\n",
            "\n",
            "  sns.countplot(x='cluster', data=df, palette='viridis')\n"
          ]
        },
        {
          "output_type": "display_data",
          "data": {
            "text/plain": [
              "<Figure size 800x500 with 1 Axes>"
            ],
            "image/png": "[encoded data removed]"
          },
          "metadata": {}
        }
      ]
    },
    {
      "cell_type": "markdown",
      "source": [
        "### topic modeling"
      ],
      "metadata": {
        "id": "F5vGQK_JJpf0"
      }
    },
    {
      "cell_type": "code",
      "source": [
        "### Topic Modeling\n",
        "# Use Latent Dirichlet Allocation (LDA) on the TF-IDF matrix to discover topics.\n",
        "from sklearn.decomposition import LatentDirichletAllocation\n",
        "\n",
        "num_topics = 5\n",
        "lda = LatentDirichletAllocation(n_components=num_topics, random_state=42)\n",
        "lda.fit(X_tfidf)\n",
        "feature_names = vectorizer.get_feature_names_out()\n",
        "\n",
        "print(\"\\nTopics discovered:\")\n",
        "for topic_idx, topic in enumerate(lda.components_):\n",
        "    top_words = [feature_names[i] for i in topic.argsort()[-10:]]\n",
        "    print(f\"Topic {topic_idx+1}: {', '.join(top_words)}\")"
      ],
      "metadata": {
        "id": "c2JhIEJU3gCX",
        "colab": {
          "base_uri": "https://localhost:8080/"
        },
        "outputId": "d499241c-8a35-422c-b344-5c6eb804f0e1"
      },
      "execution_count": null,
      "outputs": [
        {
          "output_type": "stream",
          "name": "stdout",
          "text": [
            "\n",
            "Topics discovered:\n",
            "Topic 1: mischievous, growth, turn upside, haddish, retaliate, turf war, fair, undo, laga, flawed\n",
            "Topic 2: flawed, mischievous, uncover dark, laga, fair, life star, turf war, undo, fast, leave family\n",
            "Topic 3: consultant, undo, fair, mischievous, turn upside, turf war, flawed, leave family, fast, laga\n",
            "Topic 4: flawed, turf war, leave family, familiar face, fast, fair, life star, undo, mischievous, laga\n",
            "Topic 5: turn obsessive, leave family, undo, fair, mischievous, turn upside, turf war, life star, fast, laga\n"
          ]
        }
      ]
    },
    {
      "cell_type": "code",
      "source": [
        "import pandas as pd\n",
        "import re\n",
        "\n",
        "# Load the dataset\n",
        "df = pd.read_csv('netflix_titles.csv', encoding='ISO-8859-1')\n",
        "\n",
        "# Extract the first genre from 'listed_in' and store in a new column 'genre'\n",
        "df['genre'] = df['listed_in'].astype(str).apply(lambda x: x.split(',')[0].strip())\n",
        "\n",
        "# Clean the 'description' column: remove unwanted characters\n",
        "def clean_description(text):\n",
        "    if pd.isna(text):\n",
        "        return \"\"\n",
        "    return re.sub(r'[^a-zA-Z0-9.,!?\\'\" ]', '', text).strip()\n",
        "\n",
        "df['cleaned_description'] = df['description'].apply(clean_description)\n",
        "\n",
        "# (Optional) Inspect the cleaned data\n",
        "print(df[['title', 'genre', 'cleaned_description']].head(5))\n"
      ],
      "metadata": {
        "id": "2a-kUWGYU2Cz",
        "colab": {
          "base_uri": "https://localhost:8080/"
        },
        "outputId": "db660291-2021-4091-cfc3-76953dc1d213"
      },
      "execution_count": null,
      "outputs": [
        {
          "output_type": "stream",
          "name": "stdout",
          "text": [
            "                   title                   genre  \\\n",
            "0   Dick Johnson Is Dead           Documentaries   \n",
            "1          Blood & Water  International TV Shows   \n",
            "2              Ganglands          Crime TV Shows   \n",
            "3  Jailbirds New Orleans              Docuseries   \n",
            "4           Kota Factory  International TV Shows   \n",
            "\n",
            "                                 cleaned_description  \n",
            "0  As her father nears the end of his life, filmm...  \n",
            "1  After crossing paths at a party, a Cape Town t...  \n",
            "2  To protect his family from a powerful drug lor...  \n",
            "3  Feuds, flirtations and toilet talk go down amo...  \n",
            "4  In a city of coaching centers known to train I...  \n"
          ]
        }
      ]
    },
    {
      "cell_type": "markdown",
      "source": [
        "### prediction for type ( optional )"
      ],
      "metadata": {
        "id": "wBkjiXbmHpkP"
      }
    },
    {
      "cell_type": "code",
      "source": [
        "import pandas as pd\n",
        "import re\n",
        "from sklearn.model_selection import train_test_split\n",
        "from sklearn.feature_extraction.text import TfidfVectorizer\n",
        "\n",
        "# 1) Load dataset\n",
        "df = pd.read_csv('netflix_titles.csv', encoding='ISO-8859-1')\n",
        "\n",
        "# 2) Clean the description\n",
        "def clean_description(text):\n",
        "    if pd.isna(text):\n",
        "        return \"\"\n",
        "    return re.sub(r'[^a-zA-Z0-9.,!?\\'\" ]', '', text).strip()\n",
        "\n",
        "df['cleaned_description'] = df['description'].apply(clean_description)\n",
        "\n",
        "# 3) Define target: \"Movie\" vs. \"TV Show\"\n",
        "y = df['type']  # 'Movie' or 'TV Show'\n",
        "\n",
        "# 4) TF-IDF vectorization of the cleaned descriptions\n",
        "vectorizer = TfidfVectorizer(stop_words='english', ngram_range=(1,2), min_df=2, max_df=0.9)\n",
        "X_tfidf = vectorizer.fit_transform(df['cleaned_description'])\n",
        "\n",
        "# 5) Split data\n",
        "X_train, X_test, y_train, y_test = train_test_split(\n",
        "    X_tfidf,\n",
        "    y,\n",
        "    test_size=0.2,\n",
        "    random_state=42\n",
        ")\n",
        "\n",
        "print(\"Shapes:\", X_train.shape, X_test.shape, y_train.shape, y_test.shape)\n"
      ],
      "metadata": {
        "id": "7HSeAs_D43_L",
        "colab": {
          "base_uri": "https://localhost:8080/"
        },
        "outputId": "05cf9eba-c0dd-45f5-b5ae-f5782c2a2ed2"
      },
      "execution_count": null,
      "outputs": [
        {
          "output_type": "stream",
          "name": "stdout",
          "text": [
            "Shapes: (7047, 17008) (1762, 17008) (7047,) (1762,)\n"
          ]
        }
      ]
    },
    {
      "cell_type": "code",
      "source": [
        "import numpy as np\n",
        "from sklearn.metrics.pairwise import cosine_similarity\n",
        "from collections import Counter\n",
        "\n",
        "def classify_by_similarity(new_text, vectorizer, X_train, y_train, k=5):\n",
        "    \"\"\"\n",
        "    Classify a new text as 'Movie' or 'TV Show' using similarity to training data.\n",
        "\n",
        "    Parameters:\n",
        "    - new_text: string (description to classify)\n",
        "    - vectorizer: the fitted TfidfVectorizer\n",
        "    - X_train: TF-IDF matrix for training descriptions\n",
        "    - y_train: Series or array of labels ('Movie'/'TV Show') for training\n",
        "    - k: number of neighbors to consider\n",
        "\n",
        "    Returns:\n",
        "    - predicted_type: the predicted label ('Movie' or 'TV Show')\n",
        "    \"\"\"\n",
        "    # 1) Transform new text into TF-IDF vector\n",
        "    new_vec = vectorizer.transform([new_text])\n",
        "\n",
        "    # 2) Compute cosine similarity with each training sample\n",
        "    sims = cosine_similarity(new_vec, X_train).flatten()\n",
        "\n",
        "    # 3) Get indices of top-k neighbors (largest similarity)\n",
        "    top_k_idx = np.argsort(sims)[::-1][:k]\n",
        "\n",
        "    # 4) Majority vote among those k neighbors\n",
        "    #    If y_train is a pandas Series, we can use .iloc;\n",
        "    #    If y_train is a NumPy array, index it directly.\n",
        "    if isinstance(y_train, pd.Series):\n",
        "        top_k_labels = y_train.iloc[top_k_idx]\n",
        "    else:\n",
        "        top_k_labels = y_train[top_k_idx]\n",
        "\n",
        "    # 5) Determine the most common label\n",
        "    predicted_type = Counter(top_k_labels).most_common(1)[0][0]\n",
        "\n",
        "    return predicted_type\n"
      ],
      "metadata": {
        "id": "rT6Ch_c_VLZi"
      },
      "execution_count": null,
      "outputs": []
    },
    {
      "cell_type": "markdown",
      "source": [
        "### result"
      ],
      "metadata": {
        "id": "Kq8LCBMyH4K8"
      }
    },
    {
      "cell_type": "code",
      "source": [
        "# Example: A new description\n",
        "new_description = \"A gripping story of a detective unraveling mysteries in a futuristic world.\"\n",
        "\n",
        "predicted_label = classify_by_similarity(\n",
        "    new_text=new_description,\n",
        "    vectorizer=vectorizer,\n",
        "    X_train=X_train,\n",
        "    y_train=y_train,\n",
        "    k=5  # top-5 neighbors\n",
        ")\n",
        "\n",
        "print(\"Predicted label by similarity-based method:\", predicted_label)\n"
      ],
      "metadata": {
        "id": "pcO8uIJRVOTN",
        "colab": {
          "base_uri": "https://localhost:8080/"
        },
        "outputId": "3f9b130b-1a7d-49cf-bf51-2bba4bb3b702"
      },
      "execution_count": null,
      "outputs": [
        {
          "output_type": "stream",
          "name": "stdout",
          "text": [
            "Predicted label by similarity-based method: Movie\n"
          ]
        }
      ]
    },
    {
      "cell_type": "code",
      "source": [
        "import pandas as pd\n",
        "import re\n",
        "import string\n",
        "\n",
        "# Load the dataset\n",
        "df = pd.read_csv('netflix_titles.csv', encoding='ISO-8859-1')\n",
        "\n",
        "# Fill missing values for columns we'll use\n",
        "for col in ['listed_in', 'type', 'cast', 'description']:\n",
        "    df[col] = df[col].fillna('')\n",
        "\n",
        "# Combine features into a single text field\n",
        "def combine_features(row):\n",
        "    return f\"{row['listed_in']} {row['type']} {row['cast']} {row['description']}\"\n",
        "\n",
        "df['combined_features'] = df.apply(combine_features, axis=1)"
      ],
      "metadata": {
        "id": "X2GXGmji_mxO"
      },
      "execution_count": null,
      "outputs": []
    },
    {
      "cell_type": "code",
      "source": [
        "from sklearn.feature_extraction.text import TfidfVectorizer\n",
        "from sklearn.metrics.pairwise import cosine_similarity\n",
        "import numpy as np\n",
        "\n",
        "# Vectorize the combined text\n",
        "vectorizer = TfidfVectorizer(stop_words='english')\n",
        "tfidf_matrix = vectorizer.fit_transform(df['combined_features'])\n",
        "print(\"TF-IDF matrix shape:\", tfidf_matrix.shape)\n",
        "\n",
        "# Example: Compute similarity for a query\n",
        "query = \"Comedy Movie Adam Sandler funny heartwarming family\"\n",
        "query_vec = vectorizer.transform([query])\n",
        "similarities = cosine_similarity(query_vec, tfidf_matrix).flatten()\n",
        "top_indices = np.argsort(similarities)[::-1][:5]\n",
        "print(\"Top recommendations using TF-IDF:\")\n",
        "print(df.iloc[top_indices][['title', 'listed_in', 'type']])"
      ],
      "metadata": {
        "id": "CfG49GE9DAby",
        "colab": {
          "base_uri": "https://localhost:8080/"
        },
        "outputId": "545515e8-4d4d-404d-9261-93481372c28f"
      },
      "execution_count": null,
      "outputs": [
        {
          "output_type": "stream",
          "name": "stdout",
          "text": [
            "TF-IDF matrix shape: (8809, 47360)\n",
            "Top recommendations using TF-IDF:\n",
            "                        title                           listed_in     type\n",
            "4482  ADAM SANDLER 100% FRESH                     Stand-Up Comedy    Movie\n",
            "1879          Hubie Halloween             Comedies, Horror Movies    Movie\n",
            "6089    Adam Ruins Everything                         TV Comedies  TV Show\n",
            "5639      Jim Gaffigan: Cinco                     Stand-Up Comedy    Movie\n",
            "6271          Bedtime Stories  Children & Family Movies, Comedies    Movie\n"
          ]
        }
      ]
    },
    {
      "cell_type": "code",
      "source": [
        "import spacy\n",
        "\n",
        "!python -m spacy download en_core_web_md\n",
        "\n",
        "nlp = spacy.load(\"en_core_web_md\")  # Using a medium model with pretrained vectors\n",
        "\n",
        "def get_doc_vector(text):\n",
        "    doc = nlp(text)\n",
        "    # Average the token vectors (excluding stop words and punctuation)\n",
        "    vectors = [token.vector for token in doc if token.has_vector and not token.is_stop and not token.is_punct]\n",
        "    if vectors:\n",
        "        return np.mean(vectors, axis=0)\n",
        "    else:\n",
        "        return np.zeros(nlp.vocab.vectors_length)\n",
        "\n",
        "# Compute document vectors for each title\n",
        "df['doc_vector'] = df['combined_features'].apply(get_doc_vector)\n",
        "\n",
        "# Create a matrix of document vectors\n",
        "doc_vectors = np.stack(df['doc_vector'].values)\n",
        "\n",
        "# Similarity example using word embeddings\n",
        "query_vector = get_doc_vector(query)\n",
        "from sklearn.metrics.pairwise import cosine_similarity\n",
        "embedding_similarities = cosine_similarity([query_vector], doc_vectors).flatten()\n",
        "top_indices_embed = np.argsort(embedding_similarities)[::-1][:5]\n",
        "print(\"Top recommendations using Word Embeddings:\")\n",
        "print(df.iloc[top_indices_embed][['title', 'listed_in', 'type']])"
      ],
      "metadata": {
        "id": "jUUZi3WQDEhV",
        "colab": {
          "base_uri": "https://localhost:8080/"
        },
        "outputId": "a2182031-a309-4b49-f7de-57bb9c83fe39"
      },
      "execution_count": null,
      "outputs": [
        {
          "output_type": "stream",
          "name": "stdout",
          "text": [
            "Collecting en-core-web-md==3.7.1\n",
            "  Downloading https://github.com/explosion/spacy-models/releases/download/en_core_web_md-3.7.1/en_core_web_md-3.7.1-py3-none-any.whl (42.8 MB)\n",
            "\u001b[2K     \u001b[90m━━━━━━━━━━━━━━━━━━━━━━━━━━━━━━━━━━━━━━━━\u001b[0m \u001b[32m42.8/42.8 MB\u001b[0m \u001b[31m12.3 MB/s\u001b[0m eta \u001b[36m0:00:00\u001b[0m\n",
            "\u001b[?25hRequirement already satisfied: spacy<3.8.0,>=3.7.2 in /usr/local/lib/python3.11/dist-packages (from en-core-web-md==3.7.1) (3.7.5)\n",
            "Requirement already satisfied: spacy-legacy<3.1.0,>=3.0.11 in /usr/local/lib/python3.11/dist-packages (from spacy<3.8.0,>=3.7.2->en-core-web-md==3.7.1) (3.0.12)\n",
            "Requirement already satisfied: spacy-loggers<2.0.0,>=1.0.0 in /usr/local/lib/python3.11/dist-packages (from spacy<3.8.0,>=3.7.2->en-core-web-md==3.7.1) (1.0.5)\n",
            "Requirement already satisfied: murmurhash<1.1.0,>=0.28.0 in /usr/local/lib/python3.11/dist-packages (from spacy<3.8.0,>=3.7.2->en-core-web-md==3.7.1) (1.0.12)\n",
            "Requirement already satisfied: cymem<2.1.0,>=2.0.2 in /usr/local/lib/python3.11/dist-packages (from spacy<3.8.0,>=3.7.2->en-core-web-md==3.7.1) (2.0.11)\n",
            "Requirement already satisfied: preshed<3.1.0,>=3.0.2 in /usr/local/lib/python3.11/dist-packages (from spacy<3.8.0,>=3.7.2->en-core-web-md==3.7.1) (3.0.9)\n",
            "Requirement already satisfied: thinc<8.3.0,>=8.2.2 in /usr/local/lib/python3.11/dist-packages (from spacy<3.8.0,>=3.7.2->en-core-web-md==3.7.1) (8.2.5)\n",
            "Requirement already satisfied: wasabi<1.2.0,>=0.9.1 in /usr/local/lib/python3.11/dist-packages (from spacy<3.8.0,>=3.7.2->en-core-web-md==3.7.1) (1.1.3)\n",
            "Requirement already satisfied: srsly<3.0.0,>=2.4.3 in /usr/local/lib/python3.11/dist-packages (from spacy<3.8.0,>=3.7.2->en-core-web-md==3.7.1) (2.5.1)\n",
            "Requirement already satisfied: catalogue<2.1.0,>=2.0.6 in /usr/local/lib/python3.11/dist-packages (from spacy<3.8.0,>=3.7.2->en-core-web-md==3.7.1) (2.0.10)\n",
            "Requirement already satisfied: weasel<0.5.0,>=0.1.0 in /usr/local/lib/python3.11/dist-packages (from spacy<3.8.0,>=3.7.2->en-core-web-md==3.7.1) (0.4.1)\n",
            "Requirement already satisfied: typer<1.0.0,>=0.3.0 in /usr/local/lib/python3.11/dist-packages (from spacy<3.8.0,>=3.7.2->en-core-web-md==3.7.1) (0.15.2)\n",
            "Requirement already satisfied: tqdm<5.0.0,>=4.38.0 in /usr/local/lib/python3.11/dist-packages (from spacy<3.8.0,>=3.7.2->en-core-web-md==3.7.1) (4.67.1)\n",
            "Requirement already satisfied: requests<3.0.0,>=2.13.0 in /usr/local/lib/python3.11/dist-packages (from spacy<3.8.0,>=3.7.2->en-core-web-md==3.7.1) (2.32.3)\n",
            "Requirement already satisfied: pydantic!=1.8,!=1.8.1,<3.0.0,>=1.7.4 in /usr/local/lib/python3.11/dist-packages (from spacy<3.8.0,>=3.7.2->en-core-web-md==3.7.1) (2.10.6)\n",
            "Requirement already satisfied: jinja2 in /usr/local/lib/python3.11/dist-packages (from spacy<3.8.0,>=3.7.2->en-core-web-md==3.7.1) (3.1.6)\n",
            "Requirement already satisfied: setuptools in /usr/local/lib/python3.11/dist-packages (from spacy<3.8.0,>=3.7.2->en-core-web-md==3.7.1) (75.1.0)\n",
            "Requirement already satisfied: packaging>=20.0 in /usr/local/lib/python3.11/dist-packages (from spacy<3.8.0,>=3.7.2->en-core-web-md==3.7.1) (24.2)\n",
            "Requirement already satisfied: langcodes<4.0.0,>=3.2.0 in /usr/local/lib/python3.11/dist-packages (from spacy<3.8.0,>=3.7.2->en-core-web-md==3.7.1) (3.5.0)\n",
            "Requirement already satisfied: numpy>=1.19.0 in /usr/local/lib/python3.11/dist-packages (from spacy<3.8.0,>=3.7.2->en-core-web-md==3.7.1) (1.26.4)\n",
            "Requirement already satisfied: language-data>=1.2 in /usr/local/lib/python3.11/dist-packages (from langcodes<4.0.0,>=3.2.0->spacy<3.8.0,>=3.7.2->en-core-web-md==3.7.1) (1.3.0)\n",
            "Requirement already satisfied: annotated-types>=0.6.0 in /usr/local/lib/python3.11/dist-packages (from pydantic!=1.8,!=1.8.1,<3.0.0,>=1.7.4->spacy<3.8.0,>=3.7.2->en-core-web-md==3.7.1) (0.7.0)\n",
            "Requirement already satisfied: pydantic-core==2.27.2 in /usr/local/lib/python3.11/dist-packages (from pydantic!=1.8,!=1.8.1,<3.0.0,>=1.7.4->spacy<3.8.0,>=3.7.2->en-core-web-md==3.7.1) (2.27.2)\n",
            "Requirement already satisfied: typing-extensions>=4.12.2 in /usr/local/lib/python3.11/dist-packages (from pydantic!=1.8,!=1.8.1,<3.0.0,>=1.7.4->spacy<3.8.0,>=3.7.2->en-core-web-md==3.7.1) (4.12.2)\n",
            "Requirement already satisfied: charset-normalizer<4,>=2 in /usr/local/lib/python3.11/dist-packages (from requests<3.0.0,>=2.13.0->spacy<3.8.0,>=3.7.2->en-core-web-md==3.7.1) (3.4.1)\n",
            "Requirement already satisfied: idna<4,>=2.5 in /usr/local/lib/python3.11/dist-packages (from requests<3.0.0,>=2.13.0->spacy<3.8.0,>=3.7.2->en-core-web-md==3.7.1) (3.10)\n",
            "Requirement already satisfied: urllib3<3,>=1.21.1 in /usr/local/lib/python3.11/dist-packages (from requests<3.0.0,>=2.13.0->spacy<3.8.0,>=3.7.2->en-core-web-md==3.7.1) (2.3.0)\n",
            "Requirement already satisfied: certifi>=2017.4.17 in /usr/local/lib/python3.11/dist-packages (from requests<3.0.0,>=2.13.0->spacy<3.8.0,>=3.7.2->en-core-web-md==3.7.1) (2025.1.31)\n",
            "Requirement already satisfied: blis<0.8.0,>=0.7.8 in /usr/local/lib/python3.11/dist-packages (from thinc<8.3.0,>=8.2.2->spacy<3.8.0,>=3.7.2->en-core-web-md==3.7.1) (0.7.11)\n",
            "Requirement already satisfied: confection<1.0.0,>=0.0.1 in /usr/local/lib/python3.11/dist-packages (from thinc<8.3.0,>=8.2.2->spacy<3.8.0,>=3.7.2->en-core-web-md==3.7.1) (0.1.5)\n",
            "Requirement already satisfied: click>=8.0.0 in /usr/local/lib/python3.11/dist-packages (from typer<1.0.0,>=0.3.0->spacy<3.8.0,>=3.7.2->en-core-web-md==3.7.1) (8.1.8)\n",
            "Requirement already satisfied: shellingham>=1.3.0 in /usr/local/lib/python3.11/dist-packages (from typer<1.0.0,>=0.3.0->spacy<3.8.0,>=3.7.2->en-core-web-md==3.7.1) (1.5.4)\n",
            "Requirement already satisfied: rich>=10.11.0 in /usr/local/lib/python3.11/dist-packages (from typer<1.0.0,>=0.3.0->spacy<3.8.0,>=3.7.2->en-core-web-md==3.7.1) (13.9.4)\n",
            "Requirement already satisfied: cloudpathlib<1.0.0,>=0.7.0 in /usr/local/lib/python3.11/dist-packages (from weasel<0.5.0,>=0.1.0->spacy<3.8.0,>=3.7.2->en-core-web-md==3.7.1) (0.21.0)\n",
            "Requirement already satisfied: smart-open<8.0.0,>=5.2.1 in /usr/local/lib/python3.11/dist-packages (from weasel<0.5.0,>=0.1.0->spacy<3.8.0,>=3.7.2->en-core-web-md==3.7.1) (7.1.0)\n",
            "Requirement already satisfied: MarkupSafe>=2.0 in /usr/local/lib/python3.11/dist-packages (from jinja2->spacy<3.8.0,>=3.7.2->en-core-web-md==3.7.1) (3.0.2)\n",
            "Requirement already satisfied: marisa-trie>=1.1.0 in /usr/local/lib/python3.11/dist-packages (from language-data>=1.2->langcodes<4.0.0,>=3.2.0->spacy<3.8.0,>=3.7.2->en-core-web-md==3.7.1) (1.2.1)\n",
            "Requirement already satisfied: markdown-it-py>=2.2.0 in /usr/local/lib/python3.11/dist-packages (from rich>=10.11.0->typer<1.0.0,>=0.3.0->spacy<3.8.0,>=3.7.2->en-core-web-md==3.7.1) (3.0.0)\n",
            "Requirement already satisfied: pygments<3.0.0,>=2.13.0 in /usr/local/lib/python3.11/dist-packages (from rich>=10.11.0->typer<1.0.0,>=0.3.0->spacy<3.8.0,>=3.7.2->en-core-web-md==3.7.1) (2.18.0)\n",
            "Requirement already satisfied: wrapt in /usr/local/lib/python3.11/dist-packages (from smart-open<8.0.0,>=5.2.1->weasel<0.5.0,>=0.1.0->spacy<3.8.0,>=3.7.2->en-core-web-md==3.7.1) (1.17.2)\n",
            "Requirement already satisfied: mdurl~=0.1 in /usr/local/lib/python3.11/dist-packages (from markdown-it-py>=2.2.0->rich>=10.11.0->typer<1.0.0,>=0.3.0->spacy<3.8.0,>=3.7.2->en-core-web-md==3.7.1) (0.1.2)\n",
            "Installing collected packages: en-core-web-md\n",
            "Successfully installed en-core-web-md-3.7.1\n",
            "\u001b[38;5;2m✔ Download and installation successful\u001b[0m\n",
            "You can now load the package via spacy.load('en_core_web_md')\n",
            "\u001b[38;5;3m⚠ Restart to reload dependencies\u001b[0m\n",
            "If you are in a Jupyter or Colab notebook, you may need to restart Python in\n",
            "order to load all the package's dependencies. You can do this by selecting the\n",
            "'Restart kernel' or 'Restart runtime' option.\n",
            "Top recommendations using Word Embeddings:\n",
            "                                             title  \\\n",
            "6039                               A Haunted House   \n",
            "4010  Jeff Dunham's Very Special Christmas Special   \n",
            "4009             Jeff Dunham: Minding the Monsters   \n",
            "3733           Adam Devine: Best Time of Our Lives   \n",
            "4474                                 Santo CachÃ³n   \n",
            "\n",
            "                                            listed_in   type  \n",
            "6039                          Comedies, Horror Movies  Movie  \n",
            "4010                                  Stand-Up Comedy  Movie  \n",
            "4009                                  Stand-Up Comedy  Movie  \n",
            "3733                                  Stand-Up Comedy  Movie  \n",
            "4474  Comedies, International Movies, Romantic Movies  Movie  \n"
          ]
        }
      ]
    },
    {
      "cell_type": "code",
      "source": [
        "def recommend_titles(user_genre, user_type, user_actor, user_sentiment, user_description, top_n=5, method=\"tfidf\"):\n",
        "    \"\"\"\n",
        "    Recommend titles based on user inputs and similarity measure.\n",
        "\n",
        "    Parameters:\n",
        "      user_genre (str): Desired genre(s)\n",
        "      user_type (str): 'Movie' or 'TV Show'\n",
        "      user_actor (str): Actor/actress names\n",
        "      user_sentiment (str): Sentiment descriptors (e.g., 'funny', 'heartwarming')\n",
        "      user_description (str): Additional keywords\n",
        "      top_n (int): Number of recommendations to return\n",
        "      method (str): 'tfidf' or 'embedding' for similarity calculation\n",
        "\n",
        "    Returns:\n",
        "      DataFrame: Top recommended titles.\n",
        "    \"\"\"\n",
        "    # Combine user inputs into a query string\n",
        "    user_query = f\"{user_genre} {user_type} {user_actor} {user_sentiment} {user_description}\"\n",
        "\n",
        "    if method == \"tfidf\":\n",
        "        query_vec = vectorizer.transform([user_query])\n",
        "        sims = cosine_similarity(query_vec, tfidf_matrix).flatten()\n",
        "    elif method == \"embedding\":\n",
        "        query_vec = get_doc_vector(user_query)\n",
        "        sims = cosine_similarity([query_vec], doc_vectors).flatten()\n",
        "    else:\n",
        "        raise ValueError(\"Method must be either 'tfidf' or 'embedding'\")\n",
        "\n",
        "    top_indices = np.argsort(sims)[::-1][:top_n]\n",
        "    return df.iloc[top_indices][['title', 'listed_in', 'type']], sims[top_indices]\n",
        "\n",
        "# Test the recommendation function\n",
        "user_genre = \"Comedy\"\n",
        "user_type = \"Movie\"\n",
        "user_actor = \"Adam Sandler\"\n",
        "user_sentiment = \"funny heartwarming\"\n",
        "user_description = \"family vacation\"\n",
        "recommended_titles, sim_scores = recommend_titles(\n",
        "    user_genre, user_type, user_actor, user_sentiment, user_description, top_n=5, method=\"tfidf\"\n",
        ")\n",
        "\n",
        "print(\"Recommended Titles (TF-IDF):\")\n",
        "print(recommended_titles)\n",
        "print(\"Similarity Scores:\", sim_scores)\n"
      ],
      "metadata": {
        "id": "HoSFm4nJDLPq",
        "colab": {
          "base_uri": "https://localhost:8080/"
        },
        "outputId": "2c864c70-2c96-4813-cc59-350954d8eb32"
      },
      "execution_count": null,
      "outputs": [
        {
          "output_type": "stream",
          "name": "stdout",
          "text": [
            "Recommended Titles (TF-IDF):\n",
            "                        title                           listed_in     type\n",
            "4482  ADAM SANDLER 100% FRESH                     Stand-Up Comedy    Movie\n",
            "1879          Hubie Halloween             Comedies, Horror Movies    Movie\n",
            "6089    Adam Ruins Everything                         TV Comedies  TV Show\n",
            "5639      Jim Gaffigan: Cinco                     Stand-Up Comedy    Movie\n",
            "6271          Bedtime Stories  Children & Family Movies, Comedies    Movie\n",
            "Similarity Scores: [0.3720682  0.22767894 0.1952869  0.17793935 0.16485729]\n"
          ]
        }
      ]
    },
    {
      "cell_type": "markdown",
      "source": [
        "### recommendation system"
      ],
      "metadata": {
        "id": "WFINKC03H9xZ"
      }
    },
    {
      "cell_type": "code",
      "source": [
        "# Example: user-based inputs to get recommendations\n",
        "\n",
        "def recommend_titles(user_genre, user_type, user_actor, user_sentiment, user_description, top_n=5, method=\"tfidf\"):\n",
        "    \"\"\"\n",
        "    Return recommended titles based on user inputs and similarity measure.\n",
        "\n",
        "    Parameters:\n",
        "      user_genre (str): Desired genre(s)\n",
        "      user_type (str): 'Movie' or 'TV Show'\n",
        "      user_actor (str): Actor/actress name(s)\n",
        "      user_sentiment (str): Sentiment descriptors (e.g., 'funny', 'heartwarming')\n",
        "      user_description (str): Additional keywords\n",
        "      top_n (int): Number of recommendations to return\n",
        "      method (str): 'tfidf' or 'embedding' for similarity calculation\n",
        "\n",
        "    Returns:f\n",
        "    \"\"\"\n",
        "    # Combine the user inputs into a single query string\n",
        "    user_query = f\"{user_genre} {user_type} {user_actor} {user_sentiment} {user_description}\"\n",
        "\n",
        "    if method == \"tfidf\":\n",
        "        # Vectorize the user query using the same TF-IDF vectorizer used for your dataset\n",
        "        query_vec = vectorizer.transform([user_query])\n",
        "        # Compute cosine similarity with the dataset's TF-IDF matrix\n",
        "        sims = cosine_similarity(query_vec, X_tfidf).flatten()\n",
        "    elif method == \"embedding\":\n",
        "        # If you have an embedding-based approach, implement it here\n",
        "        query_vec = get_doc_vector(user_query)  # e.g., spaCy or other embedding\n",
        "        sims = cosine_similarity([query_vec], doc_vectors).flatten()\n",
        "    else:\n",
        "        raise ValueError(\"Method must be either 'tfidf' or 'embedding'\")\n",
        "\n",
        "    # Retrieve the indices of the most similar titles\n",
        "    top_indices = np.argsort(sims)[::-1][:top_n]\n",
        "\n",
        "    # Return the top_n recommendations and their similarity scores\n",
        "    recommendations = df.iloc[top_indices][['title', 'listed_in', 'type']]\n",
        "    return recommendations, sims[top_indices]\n",
        "\n",
        "\n",
        "# ---------------------------\n",
        "# Main code that prompts user input\n",
        "# ---------------------------\n",
        "\n",
        "if __name__ == \"__main__\":\n",
        "    # Prompt user for inputs\n",
        "    user_genre = input(\"Enter your preferred genre (e.g., 'Comedy'): \")\n",
        "    user_type = input(\"Enter your preferred type (e.g., 'Movie' or 'TV Show'): \")\n",
        "    user_actor = input(\"Enter an actor/actress name (optional): \")\n",
        "    user_sentiment = input(\"Enter sentiment words (e.g., 'funny', 'heartwarming'): \")\n",
        "    user_description = input(\"Enter additional description keywords: \")\n",
        "\n",
        "    # Call the recommendation function\n",
        "    recommended_titles, sim_scores = recommend_titles(\n",
        "        user_genre=user_genre,\n",
        "        user_type=user_type,\n",
        "        user_actor=user_actor,\n",
        "        user_sentiment=user_sentiment,\n",
        "        user_description=user_description,\n",
        "        top_n=5,             # Number of recommendations\n",
        "        method=\"tfidf\"       # or \"embedding\" if you have an embedding approach\n",
        "    )\n",
        "\n",
        "    # Display results\n",
        "    print(\"\\nRecommended Titles (TF-IDF):\")\n",
        "    print(recommended_titles)\n",
        "    print(\"\\nSimilarity Scores:\")\n",
        "    print(sim_scores)"
      ],
      "metadata": {
        "id": "KRorzroUVnz6",
        "colab": {
          "base_uri": "https://localhost:8080/",
          "height": 443
        },
        "outputId": "cdec57e0-5ef8-4aaf-b925-684f8eb942a0"
      },
      "execution_count": null,
      "outputs": [
        {
          "name": "stdout",
          "output_type": "stream",
          "text": [
            "Enter your preferred genre (e.g., 'Comedy'): comedy\n",
            "Enter your preferred type (e.g., 'Movie' or 'TV Show'): movie\n",
            "Enter an actor/actress name (optional): Adam Sandler\n",
            "Enter sentiment words (e.g., 'funny', 'heartwarming'): funny heartwarming\n",
            "Enter additional description keywords: family vacation\n"
          ]
        },
        {
          "output_type": "error",
          "ename": "ValueError",
          "evalue": "Incompatible dimension for X and Y matrices: X.shape[1] == 47360 while Y.shape[1] == 17008",
          "traceback": [
            "\u001b[0;31m---------------------------------------------------------------------------\u001b[0m",
            "\u001b[0;31mValueError\u001b[0m                                Traceback (most recent call last)",
            "\u001b[0;32m<ipython-input-58-42b89ff5dd84>\u001b[0m in \u001b[0;36m<cell line: 0>\u001b[0;34m()\u001b[0m\n\u001b[1;32m     52\u001b[0m \u001b[0;34m\u001b[0m\u001b[0m\n\u001b[1;32m     53\u001b[0m     \u001b[0;31m# Call the recommendation function\u001b[0m\u001b[0;34m\u001b[0m\u001b[0;34m\u001b[0m\u001b[0m\n\u001b[0;32m---> 54\u001b[0;31m     recommended_titles, sim_scores = recommend_titles(\n\u001b[0m\u001b[1;32m     55\u001b[0m         \u001b[0muser_genre\u001b[0m\u001b[0;34m=\u001b[0m\u001b[0muser_genre\u001b[0m\u001b[0;34m,\u001b[0m\u001b[0;34m\u001b[0m\u001b[0;34m\u001b[0m\u001b[0m\n\u001b[1;32m     56\u001b[0m         \u001b[0muser_type\u001b[0m\u001b[0;34m=\u001b[0m\u001b[0muser_type\u001b[0m\u001b[0;34m,\u001b[0m\u001b[0;34m\u001b[0m\u001b[0;34m\u001b[0m\u001b[0m\n",
            "\u001b[0;32m<ipython-input-58-42b89ff5dd84>\u001b[0m in \u001b[0;36mrecommend_titles\u001b[0;34m(user_genre, user_type, user_actor, user_sentiment, user_description, top_n, method)\u001b[0m\n\u001b[1;32m     23\u001b[0m         \u001b[0mquery_vec\u001b[0m \u001b[0;34m=\u001b[0m \u001b[0mvectorizer\u001b[0m\u001b[0;34m.\u001b[0m\u001b[0mtransform\u001b[0m\u001b[0;34m(\u001b[0m\u001b[0;34m[\u001b[0m\u001b[0muser_query\u001b[0m\u001b[0;34m]\u001b[0m\u001b[0;34m)\u001b[0m\u001b[0;34m\u001b[0m\u001b[0;34m\u001b[0m\u001b[0m\n\u001b[1;32m     24\u001b[0m         \u001b[0;31m# Compute cosine similarity with the dataset's TF-IDF matrix\u001b[0m\u001b[0;34m\u001b[0m\u001b[0;34m\u001b[0m\u001b[0m\n\u001b[0;32m---> 25\u001b[0;31m         \u001b[0msims\u001b[0m \u001b[0;34m=\u001b[0m \u001b[0mcosine_similarity\u001b[0m\u001b[0;34m(\u001b[0m\u001b[0mquery_vec\u001b[0m\u001b[0;34m,\u001b[0m \u001b[0mX_tfidf\u001b[0m\u001b[0;34m)\u001b[0m\u001b[0;34m.\u001b[0m\u001b[0mflatten\u001b[0m\u001b[0;34m(\u001b[0m\u001b[0;34m)\u001b[0m\u001b[0;34m\u001b[0m\u001b[0;34m\u001b[0m\u001b[0m\n\u001b[0m\u001b[1;32m     26\u001b[0m     \u001b[0;32melif\u001b[0m \u001b[0mmethod\u001b[0m \u001b[0;34m==\u001b[0m \u001b[0;34m\"embedding\"\u001b[0m\u001b[0;34m:\u001b[0m\u001b[0;34m\u001b[0m\u001b[0;34m\u001b[0m\u001b[0m\n\u001b[1;32m     27\u001b[0m         \u001b[0;31m# If you have an embedding-based approach, implement it here\u001b[0m\u001b[0;34m\u001b[0m\u001b[0;34m\u001b[0m\u001b[0m\n",
            "\u001b[0;32m/usr/local/lib/python3.11/dist-packages/sklearn/utils/_param_validation.py\u001b[0m in \u001b[0;36mwrapper\u001b[0;34m(*args, **kwargs)\u001b[0m\n\u001b[1;32m    214\u001b[0m                     )\n\u001b[1;32m    215\u001b[0m                 ):\n\u001b[0;32m--> 216\u001b[0;31m                     \u001b[0;32mreturn\u001b[0m \u001b[0mfunc\u001b[0m\u001b[0;34m(\u001b[0m\u001b[0;34m*\u001b[0m\u001b[0margs\u001b[0m\u001b[0;34m,\u001b[0m \u001b[0;34m**\u001b[0m\u001b[0mkwargs\u001b[0m\u001b[0;34m)\u001b[0m\u001b[0;34m\u001b[0m\u001b[0;34m\u001b[0m\u001b[0m\n\u001b[0m\u001b[1;32m    217\u001b[0m             \u001b[0;32mexcept\u001b[0m \u001b[0mInvalidParameterError\u001b[0m \u001b[0;32mas\u001b[0m \u001b[0me\u001b[0m\u001b[0;34m:\u001b[0m\u001b[0;34m\u001b[0m\u001b[0;34m\u001b[0m\u001b[0m\n\u001b[1;32m    218\u001b[0m                 \u001b[0;31m# When the function is just a wrapper around an estimator, we allow\u001b[0m\u001b[0;34m\u001b[0m\u001b[0;34m\u001b[0m\u001b[0m\n",
            "\u001b[0;32m/usr/local/lib/python3.11/dist-packages/sklearn/metrics/pairwise.py\u001b[0m in \u001b[0;36mcosine_similarity\u001b[0;34m(X, Y, dense_output)\u001b[0m\n\u001b[1;32m   1739\u001b[0m     \u001b[0;31m# to avoid recursive import\u001b[0m\u001b[0;34m\u001b[0m\u001b[0;34m\u001b[0m\u001b[0m\n\u001b[1;32m   1740\u001b[0m \u001b[0;34m\u001b[0m\u001b[0m\n\u001b[0;32m-> 1741\u001b[0;31m     \u001b[0mX\u001b[0m\u001b[0;34m,\u001b[0m \u001b[0mY\u001b[0m \u001b[0;34m=\u001b[0m \u001b[0mcheck_pairwise_arrays\u001b[0m\u001b[0;34m(\u001b[0m\u001b[0mX\u001b[0m\u001b[0;34m,\u001b[0m \u001b[0mY\u001b[0m\u001b[0;34m)\u001b[0m\u001b[0;34m\u001b[0m\u001b[0;34m\u001b[0m\u001b[0m\n\u001b[0m\u001b[1;32m   1742\u001b[0m \u001b[0;34m\u001b[0m\u001b[0m\n\u001b[1;32m   1743\u001b[0m     \u001b[0mX_normalized\u001b[0m \u001b[0;34m=\u001b[0m \u001b[0mnormalize\u001b[0m\u001b[0;34m(\u001b[0m\u001b[0mX\u001b[0m\u001b[0;34m,\u001b[0m \u001b[0mcopy\u001b[0m\u001b[0;34m=\u001b[0m\u001b[0;32mTrue\u001b[0m\u001b[0;34m)\u001b[0m\u001b[0;34m\u001b[0m\u001b[0;34m\u001b[0m\u001b[0m\n",
            "\u001b[0;32m/usr/local/lib/python3.11/dist-packages/sklearn/metrics/pairwise.py\u001b[0m in \u001b[0;36mcheck_pairwise_arrays\u001b[0;34m(X, Y, precomputed, dtype, accept_sparse, force_all_finite, ensure_all_finite, ensure_2d, copy)\u001b[0m\n\u001b[1;32m    227\u001b[0m         \u001b[0;31m# Only check the number of features if 2d arrays are enforced. Otherwise,\u001b[0m\u001b[0;34m\u001b[0m\u001b[0;34m\u001b[0m\u001b[0m\n\u001b[1;32m    228\u001b[0m         \u001b[0;31m# validation is left to the user for custom metrics.\u001b[0m\u001b[0;34m\u001b[0m\u001b[0;34m\u001b[0m\u001b[0m\n\u001b[0;32m--> 229\u001b[0;31m         raise ValueError(\n\u001b[0m\u001b[1;32m    230\u001b[0m             \u001b[0;34m\"Incompatible dimension for X and Y matrices: \"\u001b[0m\u001b[0;34m\u001b[0m\u001b[0;34m\u001b[0m\u001b[0m\n\u001b[1;32m    231\u001b[0m             \u001b[0;34m\"X.shape[1] == %d while Y.shape[1] == %d\"\u001b[0m \u001b[0;34m%\u001b[0m \u001b[0;34m(\u001b[0m\u001b[0mX\u001b[0m\u001b[0;34m.\u001b[0m\u001b[0mshape\u001b[0m\u001b[0;34m[\u001b[0m\u001b[0;36m1\u001b[0m\u001b[0;34m]\u001b[0m\u001b[0;34m,\u001b[0m \u001b[0mY\u001b[0m\u001b[0;34m.\u001b[0m\u001b[0mshape\u001b[0m\u001b[0;34m[\u001b[0m\u001b[0;36m1\u001b[0m\u001b[0;34m]\u001b[0m\u001b[0;34m)\u001b[0m\u001b[0;34m\u001b[0m\u001b[0;34m\u001b[0m\u001b[0m\n",
            "\u001b[0;31mValueError\u001b[0m: Incompatible dimension for X and Y matrices: X.shape[1] == 47360 while Y.shape[1] == 17008"
          ]
        }
      ]
    },
    {
      "cell_type": "code",
      "source": [
        "import numpy as np\n",
        "import pandas as pd\n",
        "import re\n",
        "from sklearn.feature_extraction.text import TfidfVectorizer\n",
        "from sklearn.metrics.pairwise import cosine_similarity\n",
        "\n",
        "# Assume you have these pre-defined:\n",
        "# 1) df: Your Netflix dataset (DataFrame)\n",
        "# 2) tfidf_matrix: TF-IDF matrix for df['combined_features'] or df['description']\n",
        "# 3) vectorizer: The fitted TfidfVectorizer\n",
        "# 4) doc_vectors: (Optional) for embedding approach\n",
        "# 5) get_doc_vector: A function for embedding approach\n",
        "\n",
        "def recommend_titles(user_genre, user_type, user_actor, user_sentiment, user_description, top_n=5, method=\"tfidf\"):\n",
        "    \"\"\"\n",
        "    Recommend titles based on user inputs and similarity measure.\n",
        "\n",
        "    Parameters:\n",
        "      user_genre (str): Desired genre(s)\n",
        "      user_type (str): 'Movie' or 'TV Show'\n",
        "      user_actor (str): Actor/actress names\n",
        "      user_sentiment (str): Sentiment descriptors (e.g., 'funny', 'heartwarming')\n",
        "      user_description (str): Additional keywords\n",
        "      top_n (int): Number of recommendations to return\n",
        "      method (str): 'tfidf' or 'embedding' for similarity calculation\n",
        "\n",
        "    Returns:\n",
        "      (DataFrame, np.ndarray): A tuple containing the top recommended titles\n",
        "                               and their similarity scores.\n",
        "    \"\"\"\n",
        "    # Combine user inputs into a query string\n",
        "    user_query = f\"{user_genre} {user_type} {user_actor} {user_sentiment} {user_description}\"\n",
        "\n",
        "    if method == \"tfidf\":\n",
        "        # Vectorize the user query with the same TF-IDF vectorizer\n",
        "        query_vec = vectorizer.transform([user_query])\n",
        "        # Compute cosine similarity with the TF-IDF matrix of your dataset\n",
        "        sims = cosine_similarity(query_vec, tfidf_matrix).flatten()\n",
        "    elif method == \"embedding\":\n",
        "        # If you have an embedding-based approach, convert user_query to embeddings\n",
        "        query_vec = get_doc_vector(user_query)\n",
        "        sims = cosine_similarity([query_vec], doc_vectors).flatten()\n",
        "    else:\n",
        "        raise ValueError(\"Method must be either 'tfidf' or 'embedding'\")\n",
        "\n",
        "    # Get indices of the top_n most similar titles\n",
        "    top_indices = np.argsort(sims)[::-1][:top_n]\n",
        "\n",
        "    # Return the recommended titles and their similarity scores\n",
        "    return df.iloc[top_indices][['title', 'listed_in', 'type']], sims[top_indices]\n",
        "\n",
        "# -------------------------------\n",
        "# Main code prompting user input\n",
        "# -------------------------------\n",
        "if __name__ == \"__main__\":\n",
        "    # Prompt user for inputs\n",
        "    user_genre = input(\"Enter your preferred genre (e.g., 'Comedy'): \")\n",
        "    user_type = input(\"Enter your preferred type (e.g., 'Movie' or 'TV Show'): \")\n",
        "    user_actor = input(\"Enter an actor/actress name (optional): \")\n",
        "    user_sentiment = input(\"Enter sentiment words (e.g., 'funny', 'heartwarming'): \")\n",
        "    user_description = input(\"Enter additional keywords (optional): \")\n",
        "\n",
        "    # Call the recommendation function\n",
        "    recommended_titles, sim_scores = recommend_titles(\n",
        "        user_genre=user_genre,\n",
        "        user_type=user_type,\n",
        "        user_actor=user_actor,\n",
        "        user_sentiment=user_sentiment,\n",
        "        user_description=user_description,\n",
        "        top_n=5,             # Number of recommendations\n",
        "        method=\"tfidf\"       # or \"embedding\" if you have an embedding approach\n",
        "    )\n",
        "\n",
        "    # Display results\n",
        "    print(\"\\nRecommended Titles (TF-IDF):\")\n",
        "    print(recommended_titles)\n",
        "    print(\"\\nSimilarity Scores:\")\n",
        "    print(sim_scores)\n"
      ],
      "metadata": {
        "colab": {
          "base_uri": "https://localhost:8080/"
        },
        "id": "fFXnMe8-93PG",
        "outputId": "8f992a53-2667-4877-f6df-0c951e64c2e8"
      },
      "execution_count": null,
      "outputs": [
        {
          "output_type": "stream",
          "name": "stdout",
          "text": [
            "Enter your preferred genre (e.g., 'Comedy'): comedy\n",
            "Enter your preferred type (e.g., 'Movie' or 'TV Show'): movie\n",
            "Enter an actor/actress name (optional): tom\n",
            "Enter sentiment words (e.g., 'funny', 'heartwarming'): funny\n",
            "Enter additional keywords (optional): vacation\n",
            "\n",
            "Recommended Titles (TF-IDF):\n",
            "                                 title  \\\n",
            "5639               Jim Gaffigan: Cinco   \n",
            "5379     Tom Segura: Completely Normal   \n",
            "3388         Jenny Slate: Stage Fright   \n",
            "4184  Trigger Warning with Killer Mike   \n",
            "2782              Tom Segura: Ball Hog   \n",
            "\n",
            "                                     listed_in     type  \n",
            "5639                           Stand-Up Comedy    Movie  \n",
            "5379                           Stand-Up Comedy    Movie  \n",
            "3388            Documentaries, Stand-Up Comedy    Movie  \n",
            "4184  Docuseries, Stand-Up Comedy & Talk Shows  TV Show  \n",
            "2782                           Stand-Up Comedy    Movie  \n",
            "\n",
            "Similarity Scores:\n",
            "[0.25348861 0.19996897 0.1802892  0.17971545 0.17850016]\n"
          ]
        }
      ]
    }
  ]
}